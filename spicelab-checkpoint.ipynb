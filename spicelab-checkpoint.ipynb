{
 "cells": [
  {
   "cell_type": "markdown",
   "metadata": {},
   "source": [
    "\n",
    " # Objetivo del laboratorio\n",
    " El objetivo de la presenta práctica es conocer el estándar de simulación de circuitos [SPICE](http://bwrcs.eecs.berkeley.edu/Classes/IcBook/SPICE) y realizar pequeñas simulaciones en corriente continua con el mismo. SPICE es una forma elegante y sencilla de codificar circuitos eléctricos de manera que puedan ser procesados por un ordenador. Mediante un sencillo lenguaje podemos definir resistencias, fuentes de alimentación, etc., las conexiones entre ellos y los resultados que deseamos obtener.\n",
    "\n",
    " # El estándar SPICE\n",
    " **SPICE** es una abreviabiación de *Simulation Program with Integrated Circtuit Emphasis*.\n",
    " Se trata básicamente de un método estándar para describir circuitos usando texto plano en lugar de una representación gráfica (o *esquemática*). A esta descripción en texto se la llama también **netlist** y básicamente se corresponde con la *lista* de los componentes del circuito y cómo estos están conectados entre sí, es decir, de los nodos de unión.\n",
    " \n",
    " Los ficheros netlist pueden tener extensiones `.cir`, `.net`, `.ckt`, ó `.sp` y es muy común encontrárselos con cualquiera de estas.\n",
    "\n",
    " Existen en el mercado muchas variantes (intérpretes) de Spice, aunque el original fue descrito en la Universidad de Berkeley. En la lista de intérpretes de Spice tenemos desde esfuerzos y proyectos comerciales hasta *open source* y regidos por distintas comunidades de usuarios y programadores.\n",
    "\n",
    "> **Pregunta: Enumera todos los intérprete de Spice que puedas encontrar. Crea una tabla en Markdown con varias columnas (para el nombre, fabricante, versión actual, licencia y alguna característica sobresaliente). Aquí tienes un ejemplo del que puedes partir y seguir completando:**\n",
    "\n",
    "| Intérprete | Licencia  || Versión actual         | Fabricante                                 | Características  |\n",
    "| :--------- | :-------: ||:---------------------: | :----------------------------------------: | ---------------- |\n",
    "| Ahkab      | GPL       || versión 0.18           | Giuseppe Venturini                         | Basado en Python |\n",
    "| LTSpice    | Freeware  || versión LTspice XVII   | Linear Technology and Analog Devices       | Basado en Spice  |\n",
    "| PSpice     | De pago   || versión 17.2           | Cadence Design Systems                     | Basado en C      |\n",
    "| NGspice    | Libre GNU || versión ngspice-33     | Open Source                                | Basado en C      |\n",
    "| MacSpice   | Freeware  || versión  3.1.24        | Desarrollado por Charles D. H. Williams    | Programa para MAC|\n",
    "| HSpice     | De pago   ||                        | Cadence Design Systems                     | Basado en C      |\n",
    "\n",
    "\n",
    " > **Pregunta: ¿Qué comparación puedes efectuar entre C y Spice como estándares (lenguajes) y sus respectivas implementaciones en software?**\n",
    " \n",
    " C es un lenguaje de programación de propósito general. C es apreciado por la eficiencia del código que produce y es el lenguaje de programación más popular para crear software de sistemas, aunque también se utiliza para crear aplicaciones. C es un programa que utiliza compiladores para traducir sus líneas de código sin necesidad de tener que interpretarlo.\n",
    " \n",
    " Spice como bien hemos comentado al principio es un programa utilizado para describir circuitos usando texto plano mediante un sencillo lenguaje. SPICE es una forma elegante y sencilla de codificar circuitos eléctricos de manera que puedan ser procesados por un ordenador. Spice es un programa que necesita interpretar el código para poder ejecutarlo.\n",
    " \n",
    "Por tanto, la principal diferencia que encuentro entre ambos programas es que C no necesita interpretar el código para ejecutar un programa y sin embargo Spice sí que necesita interpretar su código cada vez que desee ejecutar su programa. \n",
    " \n",
    " \n",
    " > **¿Qué implementaciones reales (compiladores) del lenguaje C conoces?**\n",
    " \n",
    " Los informáticos, cuando hablamos de un compilador nos referimos a un tipo de traductor que transforma un programa entero de un lenguaje de programación  a otro.\n",
    " \n",
    " Los compiladores más conocidos en el caso del Lenguaje C son: MinGW (implementación de GCC para Windows), GCC (GNU Compiler Collection), Dev-C++ (es uno de los más utilizados para Windows en la actualidad), Code::Blocks (alternativa a Dev-C++ y desarrollada por el propio lenguaje C++)... \n",
    " \n",
    " Los antiguos Turbo C y Turbo C++ que eran tanto compiladores como IDE para el sistema operativo MS-DOS fueron sustituidos por C++Builder, y Visual C++.\n",
    " \n",
    " ## Elementos de un netlist\n",
    " Como acabamos de comentar, un netlist se corresponde con la codificación de los elementos electrónicos de un circuito y las uniones entre los mismos. Veamos con más concreción qué partes y secciones lo componen.\n",
    "\n",
    " ## Comentarios\n",
    "\n",
    " La primera línea de un netlist se corresponderá siempre con un comentario. A partir de esta línea se pueden introducir más comentarios pero tienen que ir siempre precedidos de un `*`. Ejemplo:\n",
    " \n",
    " ```spice\n",
    " Mi primer circuito\n",
    " * Otro comentario\n",
    " * más comentarios\n",
    " *\n",
    " ```\n",
    "\n",
    " ## Dispositivos básicos de un circuito\n",
    " Los elementos de un netlist son los mismos que encontramos en cualquier circuito eléctrico sencillo,\n",
    " tales como **resistencias**, **condensadores**, **bobinas**, **interruptores**, **hilos** y **fuentes de alimentación**.\n",
    " Para distinguir uno de otro, se reserva una letra característica: `V` para fuentes de alimentación, `R` para resistencias, `C` para condensadores y `L` para bobinas. También es posible usar estas letras en su versión en minúscula (`r`, `v`, `c`, `l`, etc.).\n",
    " Después de esta letra característica se puede sufijar cualquier texto para diferenciar un elemento de otro (números, letras, palabras, etc.). Ejemplo:\n",
    "\n",
    " ```\n",
    " * Una resistencia\n",
    " R1\n",
    " *  Otra resistencia\n",
    " R2\n",
    " * Fuente de alimentación\n",
    " V\n",
    " * Un condensador\n",
    " Cprincipal\n",
    " ```\n",
    "\n",
    " ## Conexiones\n",
    " A continuación de indicar el elemento eléctrico, tenemos que informar a Spice cuáles\n",
    " son los puntos de unión tanto a un lado como al otro del elemento.\n",
    " Así es como Spice sabe qué está conectado a qué: porque comparten un **punto**\n",
    " (o **nodo**, aunque este término se reserva sobretodo a uniones de más de dos elementos)\n",
    " que hemos señalizado correctamente. Para nombrar nodos, lo mejor es emplear una\n",
    " numeración secuencial: 0...n. **La enumeración de los puntos de unión es completamente\n",
    " a nuestro criterio**.\n",
    "\n",
    " ```\n",
    " * Una resistencia\n",
    " * entre cables 0 y 1\n",
    " R1 0 1\n",
    " ```\n",
    "\n",
    " **Sólo es necesario seguir un criterio**: en el caso de una\n",
    " fuente de alimentación, el nodo que pondremos primero será\n",
    " aquel que está más cerca del *borne* positivo. Ejemplo:\n",
    "\n",
    " ```spice\n",
    " * Para una fuente indicamos primeramente conexión a nodo positivo.\n",
    " v 2 3 type=vdc vdc=1\n",
    " ```\n",
    " \n",
    "En el *caso de LTspice* no es necesario indicar los parámetros `type=vdc` y `vdc=X`, sino que si no se especifica nada, se supone que el último valor es el del voltaje a corriente continua:\n",
    "\n",
    "```spice\n",
    "* Especificación de una fuente de alimentación de 10 V en corriente continua en el caso de LTspice\n",
    "v 0 1 10\n",
    "```\n",
    "\n",
    "Aquí tienes un ejemplo gráfico de los componentes comentados justo arriba (resistencia y voltaje):\n",
    "\n",
    "![](https://raw.githubusercontent.com/pammacdotnet/spicelab/master/resistencia%20y%20pila%20con%20nodos.svg?sanitize=true)\n",
    "\n",
    " ## Unidades en SPICE\n",
    "\n",
    " Las unidades de las magnitudes características del circuito son siempre [unidades\n",
    " del Sistema Internacional](https://en.wikipedia.org/wiki/SI_electromagnetism_units) y no es necesario indicarlo explícitamente en el netlist.\n",
    "\n",
    " La forma de especificar múltiplos de estas cantidades es añadiendo una letra.\n",
    " Básicamente las que nos interesan y las que suelen aparecer mayoritariamente son `k` para \"kilo-,\" `m` para \"mili?\" y `u` para \"micro?\".\n",
    "\n",
    " > **Pregunta: Crea una tabla en Markdown con todos los prefijos de múltiplos que puedas, su abreviatura y su equivalencia numérica.**\n",
    " \n",
    "| Prefijo  || Símbolo   || Equivalencia numérica  || Equivalencia decimal              |\n",
    "| -------- || --------- || ---------------------- || --------------------------------- | \n",
    "| yotta    || Y         || $$ { {10^{24}}} $$     || 1 000 000 000 000 000 000 000 000 |\n",
    "| zetta    || Z         || $$ { {10^{21}}} $$     || 1 000 000 000 000 000 000 000     |\n",
    "| exa      || E         || $$ { {10^{18}}} $$     || 1 000 000 000 000 000 000         |\n",
    "| peta     || P         || $$ { {10^{15}}} $$     || 1 000 000 000 000 000             |\n",
    "| tera     || T         || $$ { {10^{12}}} $$     || 1 000 000 000 000                 |\n",
    "| giga     || G         || $$ { {10^{9}}} $$      || 1 000 000 000                     |\n",
    "| mega     || M         || $$ { {10^{6}}} $$      || 1 000 000                         |\n",
    "| kilo     || k         || $$ { {10^{3}}} $$      || 1 000                             |\n",
    "| hecto    || h         || $$ { {10^{2}}} $$      || 100                               |\n",
    "| deca     || da        || $$ { {10^{1}}} $$      || 10                                |\n",
    "|          ||           || $$ { {10^{0}}} $$      || 1                                 |\n",
    "| deci     || d         || $$ { {10^{-1}}} $$     || 0.1                               |\n",
    "| centi    || c         || $$ { {10^{-2}}} $$     || 0.01                              |\n",
    "| mili     || m         || $$ { {10^{-3}}} $$     || 0.001                             |\n",
    "| micro    || µ         || $$ { {10^{-6}}} $$     || 0.000 001                         |\n",
    "| nano     || n         || $$ { {10^{-9}}} $$     || 0.000 000 001                     |\n",
    "| pico     || p         || $$ { {10^{-12}}} $$    || 0.000 000 000 001                 |\n",
    "| femto    || f         || $$ { {10^{-15}}} $$    || 0.000 000 000 000 001             |\n",
    "| atto     || a         || $$ { {10^{-18}}} $$    || 0.000 000 000 000 000 001         |\n",
    "| zepto    || z         || $$ { {10^{-21}}} $$    || 0.000 000 000 000 000 000 001     |\n",
    "| yocto    || y         || $$ { {10^{-24}}} $$    || 0.000 000 000 000 000 000 000 001 |\n",
    "\n",
    " \n",
    " En el caso de las fuentes de alimentación hemos de especificar si se trata de corriente contínua (`vdc`) o alterna (`ac`).\n",
    "\n",
    " ```\n",
    " * Una resistencia de 5 Ohmios\n",
    " R2 1 0 5\n",
    " * Una pila de 10 Voltios (continua)\n",
    " V1 1 0 type=vdc vdc=10\n",
    " * Una resistencia de 5 kΩ\n",
    " RX 2 4 5k\n",
    " ```\n",
    "\n",
    " > **Pregunta: ¿qué unidades del Sistema Internacional relacionadas con la asignatura –y los circuitos en general– conoces? Responde aquí mismo en una celda de Markdown con una tabla.**\n",
    " \n",
    "| Unidad    || Símbolo   || Magnitud                                    || \n",
    "| :-------  || :-------: || :-----------------------------------------: ||  \n",
    "| metro     || m         || longitud                                    || \n",
    "| kilogramo || kg        || masa                                        ||\n",
    "| segundo   || s         || timepo                                      || \n",
    "| kelvin    || k         || temperatura termodinámica                   || \n",
    "| amperio   || A         || corriente eléctrica                         || \n",
    "| mol       || mol       || cantidad de sustancia                       || \n",
    "| hercio    || Hz        || frecuencia                                  || \n",
    "| vatio     || W         || potencia y flujo radiante                   || \n",
    "| culombio  || C         || carga eléctrica                             ||\n",
    "| voltio    || V         || tensión eléctrica y diferencia de potencial ||\n",
    "| ohmio     || Ω         || resistencia eléctrica                       ||\n",
    "| tesla     || T         || campo mágnetico                             ||\n",
    "| newton    || N         || fuerza                                      ||\n",
    "| pascal    || Pa        || presión                                     ||\n",
    "| julio     || J         || energía (incluyendo calor)                  || \n",
    "| weber     || Wb        || flujo magnético                             || \n",
    " \n",
    "\n",
    " ## Valores iniciales\n",
    "\n",
    " Aparecen justo al final de la definición del componente (`ic`). Suelen aplicarse principalmente con condensadores.\n",
    "\n",
    " ```\n",
    " * Una condensador inicialmente no cargado\n",
    " c 1 0 1u ic=0\n",
    " ```\n",
    "\n",
    " ## Fin del circuito\n",
    "\n",
    " El fin de la descripción de un netlist se especifica mediante el\n",
    " comando `.end`.\n",
    "\n",
    " ```spice\n",
    " * Mi primer circuito\n",
    " V 1 0 vdc=10 type=vdc\n",
    " R 1 0 5\n",
    " * Fin del circuito\n",
    " .end\n",
    " ```\n",
    "\n",
    "\n",
    " ## Comandos SPICE para circuitos en corriente continua\n",
    "\n",
    " Además de la descripción del circuito, hemos de indicar al intérprete de Spice qué\n",
    " tipo de análisis queremos realizar sobre el mismo y cómo queremos presentar\n",
    " la salida de la simulación. Los comandos en Spice empiezan por un `.` y suelen\n",
    " escribirse justo al final del circuito, pero antes del comando `.end`.\n",
    "\n",
    " ```\n",
    "  Mi primer circuito\n",
    " * Aquí van los componentes\n",
    " R 1 0 6k\n",
    " ...\n",
    " * Comandos\n",
    " .op\n",
    " ...\n",
    " * Fin del circuito\n",
    " .end\n",
    " ```\n",
    "\n",
    " > **Pregunta: Hasta lo que has visto del lenguaje Spice, ¿dentro de qué tipo o conjunto de lenguajes encajaría? ¿Funcionales? ¿Específicos de dominio? ¿Procedurales? ¿Estructurados? ¿Orientado a Objetos ¿Funcionales? Justifica tu respuesta.** \n",
    " \n",
    " En mi opinión, el lenguaje Spice encajaría como lenguaje específico de dominio, ya que como hemos comentado antes no es un lenguaje de programación de propósito general como lo es C, si no que su utilidad está muy definida ya que es un programa específico cuyo objetivo es simular circuitos electrónicos analógicos compuestos por resistencias, condensadores, diodos, transistores, etc.\n",
    "\n",
    " \n",
    " Veamos los principales comandos de simulación:\n",
    "\n",
    " - `.op` es el comando más sencillo que podemos emplear. Devuelve el voltaje e intensidad en cada ramal y componente del circuito. Este comando no necesita parámetros.\n",
    " - `.dc` es uy parecido al comando `.op` pero nos permite cambiar el valor del voltaje de una fuente de alimentación en pasos consecutivos entre el valor A y el valor B.\n",
    " En el caso de que la fuente tuviera asignada ya un valor para su voltaje, este sería ignorado. Ejemplo:\n",
    "\n",
    "\n",
    " ```spice\n",
    " * Variamos el valor del voltaje\n",
    " * de la fuente \"v\" de 1 a 1000\n",
    " * en pasos de 5 voltios\n",
    " v 1 0 type=vdc vdc=10\n",
    " .dc v 1 start=1 stop=1000 step=20\n",
    " v2a 2 4 type=vdc vdc=9\n",
    " * Igual para v2a. Se ignora su voltaje de 9V\n",
    " .dc v2a start=0 stop=10 step=2\n",
    " ```\n",
    "\n",
    " - El comando `.tran` realiza un análisis en el tiempo de los parámetros del\n",
    " circuito. Si no se emplea la directiva `uic` (*use initial conditions*) o esta es igual a cero, este análisis se realiza desde el punto estable de funcionamiento del circuito hasta un tiempo `tfinal`.\n",
    " y en intervalos `tstep`. Si empleamos un varlor distinto para parámetro `uic`,\n",
    " entonces se hará uso de las condiciones iniciales definidas para cada componente\n",
    "  (típicamente `ic=X` en el caso de los condensadores, que da cuenta de la carga incial que estos pudieran tener).\n",
    "\n",
    "\n",
    " ```\n",
    " * Hacemos avanzar el tiempo entre\n",
    " * tinicial y tfinal en pasos tstep\n",
    " .tran tstart=X tstop=Y tstep=Z uic=0/1/2/3\n",
    " ```\n",
    "\n",
    " `X`, `Y` y `Z` tienen, evidentemente unidades de tiempo en el S.I. (segundos).\n",
    "\n",
    " > **Pregunta: El parámetro `uic` puede tener varios valores y cada uno significa una cosa. Detállalo usando un celda Markdown y consultando la [documentación de Ahkab](https://buildmedia.readthedocs.org/media/pdf/ahkab/latest/ahkab.pdf).**\n",
    " \n",
    " El comando `.tran` realiza un análisis en el tiempo de los parámetros del circuito desde tstart (que tiene valor predeterminado 0) hasta tstop.\n",
    "\n",
    "Tstep este es el paso inicial. De forma predeterminada, el programa intentará ajustarlo para mantener la estimación inicial del tamaño del paso. Tstop es la duración de la simulación y tstart es el punto de partida que como he nombrado antes viene con un valor predeterminado 0.\n",
    "\n",
    "El termino UIC se utiliza cuando tenemos condiciones iniciales especificadas en los condensadores e inductancias y queremos usarlas.\n",
    "\n",
    "| Valores   || Significado                                                                                                                             ||\n",
    "| :-------: || :-------------------------------------------------------------------------------------------------------------------------------------: ||\n",
    "| UIC       || Usa las condiciones iniciales especificadas por el usuario. Se utiliza para especificar el estado del circuito en el momento t - tstart.|| \n",
    "| uic=0     || Todos los voltajes y corrientes de nodo a través de distintas fuentes serán 0 en t - tstart .                                           ||\n",
    "| uic=1     || El estado en t - tstart será el último resultado de un análisis de OP.                                                                  || \n",
    "| uic=2     || El estado en t - tstart será el último resultado de un análisis OP donde se establecen los valores de corrientes a través de inductores                    y tensiones en condensadores especificados en su ic.                                                                                    || \n",
    "| uic=3     || Carga una condición inicial suministrada por un usuario. Esto requiere una directiva .ic en algún lugar de la netlist y los nombre de un                  .ic e ic_label deben coincidir.                                                                                                         || \n",
    "\n",
    " ## Intérprete SPICE que vamos a usar: Ahkab\n",
    " Tras un estándar siempre hay una o varias implementaciones. Ahkab no deja de ser una implmentación más en Python del estándar Spice.\n",
    " \n",
    " > **Pregunta: Comenta las distintas implementaciones de lenguajes y estándares que conozcas. Hazlo usando una tabla en Markdown.**\n",
    " \n",
    "| Lenguajes   || Implementaciones                                                                                                                       ||\n",
    "|  ---------  || :------------------------------------------------------------------------------------------------------------------------------------: ||\n",
    "| JAVA        || OpenJDK (versión libre de GNU), HotSpot (máquina virtual Java desarrollada por Oracle Corporation), JNode (sistema operativo totalmente                    hecho en Java), Apache Harmony (implementación de código abierto de Java, desarrollado por la Apache Software Foundation)...           ||\n",
    "| JAVASCRIPT  || SpiderMonkey (intérprete de JavaScript empleado en el navegador Mozilla Firefox), Rhino (intérprete de JavaScript de código abierto),                      JavaScriptCore (framework desarrollado por Apple Inc. para proveer de un Intérprete de JavaScript a Mac OS X), V8 (motor de código                        abierto para JavaScript y WebAssembly, creado por Google)...                                                                           ||\n",
    "| PHP         || Motor Zend (motor de procesamiento para la interpretación y cifrado del código PHP), HHVM (HipHop Virtual Machine es una máquina virtual                  de código abierto), Parrot (máquina virtual basada en registros, que está siendo desarrollada en lenguaje C)...                        ||\n",
    "| PHYTON      || CPython (implementación oficial escrita en C), Jython (lenguaje de programación de alto nivel, dinámico y orientado a objetos basado en                    Python e implementado íntegramente en Java)...                                                                                         ||\n",
    "| C++         || C++ Builder (entorno de desarrollo rápido de aplicaciones en lenguaje C++ para Windows), GCC (GNU Compiler Collection es un conjunto de                    compiladores creados por GNU), Visual C++ ( entorno de desarrollo integrado para lenguajes de programación C, C++ y C++/CLI),                              Code::Blocks (entorno de desarrollo integrado de código abierto)...                                                                    ||\n",
    " \n",
    " > **Pregunta: Describe brevemente este software (creador, objetivos, versiones, licencia, características principales, dependencias, etc.).**\n",
    "\n",
    "|   AHKAB         ||                                                                                                                                    ||\n",
    "| :-------------: || :--------------------------------------------------------------------------------------------------------------------------------  ||\n",
    "| creador         || Giuseppe Venturini                                                                                                                 ||\n",
    "| objetivos       || Implementación y simulación de circuitos electricos                                                                                ||\n",
    "| versiones       || 0.18                                                                                                                               ||\n",
    "| licencia        || Licencia GNU v2                                                                                                                    ||\n",
    "| características || Admite operaciones como la impresión de todas las matrices de ecuaciones, escrito en lenguaje de programación Python, es un software                      de código abierto, por lo que puedes modificarlo y trabajar en ello ...                                                            ||\n",
    "\n",
    "\n",
    "\n",
    "\n",
    "\n",
    "# Trabajo práctico\n",
    " Muy bien, ahora toca definir circuitos y ejecutar simulaciones sobre los mismos gracias a Ahkab.\n",
    " ## Instalación de bibliotecas necesarias\n",
    " Si estás utilizando Anaconda, asegúrate de tener su entorno activado:\n",
    " \n",
    " ```cmd\n",
    " C:\\> conda activate base (en el caso de Windows)\n",
    " ```\n",
    " ó\n",
    "\n",
    " ```bash\n",
    " $ source /usr/local/Caskroom/miniconda/base/bin/activate (en el caso de macOS)\n",
    " ```\n",
    "\n",
    "En el caso de Windows tienes que tener en el PATH el directorio donde se encuentre el comando `conda` (visita la sección de [Environment Variables](https://superuser.com/questions/949560/how-do-i-set-system-environment-variables-in-windows-10) del [Panel de Control](https://www.digitalcitizen.life/8-ways-start-control-panel-windows-10)). Si has instalado Anaconda con [esta opción](https://docs.anaconda.com/_images/win-install-options.png) marcada, ya no tienes que preocuparte por ello. \n",
    "\n",
    "En el caso de usar Visual Studio Code, este puede encontrar automáticamente la distintas distribuciones de Python que tengamos instaladas y si abrimos un terminal, este se adaptará automáticamente al entorno Python que hayamos seleccionado. La configuración de Python en VS Code está bien explicada su [documentación](https://code.visualstudio.com/docs/python/python-tutorial).\n",
    "\n",
    "![](https://raw.githubusercontent.com/microsoft/vscode-python/main/images/InterpreterSelectionZoom.gif)\n",
    "\n",
    "Ahora ya puedes instalar Ahkab:\n",
    "\n",
    " ```\n",
    " (base) $ pip install ahkab\n",
    " ``` "
   ]
  },
  {
   "cell_type": "markdown",
   "metadata": {},
   "source": [
    "También puedes instalar Ahkab directamente desde este mismo notebook:"
   ]
  },
  {
   "cell_type": "code",
   "execution_count": 1,
   "metadata": {
    "execution": {
     "iopub.execute_input": "2021-01-04T16:55:44.915Z",
     "iopub.status.busy": "2021-01-04T16:55:44.859Z",
     "iopub.status.idle": "2021-01-04T16:55:46.797Z",
     "shell.execute_reply": "2021-01-04T16:55:46.896Z"
    },
    "jupyter": {
     "outputs_hidden": false,
     "source_hidden": false
    },
    "nteract": {
     "transient": {
      "deleting": false
     }
    }
   },
   "outputs": [
    {
     "name": "stdout",
     "output_type": "stream",
     "text": [
      "Requirement already satisfied: ahkab in c:\\users\\huawei\\appdata\\local\\programs\\python\\python38\\lib\\site-packages (0.18)\n",
      "Requirement already satisfied: numpy>1.7.0 in c:\\users\\huawei\\appdata\\local\\programs\\python\\python38\\lib\\site-packages (from ahkab) (1.19.4)\n",
      "Requirement already satisfied: scipy>=0.14.0 in c:\\users\\huawei\\appdata\\local\\programs\\python\\python38\\lib\\site-packages (from ahkab) (1.5.4)\n",
      "Requirement already satisfied: sympy>=0.7.6 in c:\\users\\huawei\\appdata\\local\\programs\\python\\python38\\lib\\site-packages (from ahkab) (1.7.1)\n",
      "Requirement already satisfied: tabulate>=0.7.3 in c:\\users\\huawei\\appdata\\local\\programs\\python\\python38\\lib\\site-packages (from ahkab) (0.8.7)\n",
      "Requirement already satisfied: mpmath>=0.19 in c:\\users\\huawei\\appdata\\local\\programs\\python\\python38\\lib\\site-packages (from sympy>=0.7.6->ahkab) (1.1.0)\n"
     ]
    },
    {
     "name": "stderr",
     "output_type": "stream",
     "text": [
      "WARNING: You are using pip version 19.2.3, however version 20.3.3 is available.\n",
      "You should consider upgrading via the 'python -m pip install --upgrade pip' command.\n"
     ]
    }
   ],
   "source": [
    "!pip install ahkab"
   ]
  },
  {
   "cell_type": "markdown",
   "metadata": {},
   "source": [
    "\n",
    " Como siempre, una vez instalado cualquier framework para Python, ya lo podemos utilizar, tanto desde el [REPL](https://en.wikipedia.org/wiki/Read–eval–print_loop) como desde un entorno Jupyter (Jupyter, [Jupyterlab](http://jupyterlab.readthedocs.io/en/stable/), VS Code o nteract). Recuerda que para usar el kernel Python (que viene con Anaconda) desde nteract debes seguir las instrucciones que se indican en su [documentación oficial](https://nteract.io/kernels). "
   ]
  },
  {
   "cell_type": "markdown",
   "metadata": {},
   "source": [
    "Como vamos a pintar algunas gráficas, necesitamos instlar [matplotlib](https://matplotlib.org). Al igual que con Ahkab, esto lo podemos hacer directamente desde este mismo notebook. Si hemos usado Anaconda: "
   ]
  },
  {
   "cell_type": "code",
   "execution_count": 2,
   "metadata": {
    "execution": {
     "iopub.execute_input": "2021-01-04T16:55:55.034Z",
     "iopub.status.busy": "2021-01-04T16:55:54.958Z",
     "iopub.status.idle": "2021-01-04T16:56:12.838Z",
     "shell.execute_reply": "2021-01-04T16:56:13.071Z"
    },
    "jupyter": {
     "outputs_hidden": false,
     "source_hidden": false
    },
    "nteract": {
     "transient": {
      "deleting": false
     }
    }
   },
   "outputs": [
    {
     "name": "stdout",
     "output_type": "stream",
     "text": [
      "Collecting package metadata (current_repodata.json): ...working... done\n",
      "Solving environment: ...working... done\n",
      "\n",
      "# All requested packages already installed.\n",
      "\n"
     ]
    }
   ],
   "source": [
    "!conda install -y -c conda-forge matplotlib"
   ]
  },
  {
   "cell_type": "code",
   "execution_count": 3,
   "metadata": {
    "execution": {
     "iopub.execute_input": "2021-01-04T16:56:12.987Z",
     "iopub.status.busy": "2021-01-04T16:56:12.930Z",
     "iopub.status.idle": "2021-01-04T16:56:16.996Z",
     "shell.execute_reply": "2021-01-04T16:56:17.051Z"
    },
    "jupyter": {
     "outputs_hidden": false,
     "source_hidden": false
    },
    "nteract": {
     "transient": {
      "deleting": false
     }
    }
   },
   "outputs": [
    {
     "name": "stderr",
     "output_type": "stream",
     "text": [
      "W: Locale appears not set! please export LANG=\"en_US.UTF-8\" or equivalent, \n",
      "W: or ahkab's unicode support is broken.\n"
     ]
    }
   ],
   "source": [
    "import pylab as plt\n",
    "import ahkab"
   ]
  },
  {
   "cell_type": "markdown",
   "metadata": {
    "nteract": {
     "transient": {
      "deleting": false
     }
    }
   },
   "source": [
    " > **Pregunta: ¿Qué es y para qué sirve PyLab?**\n",
    " \n",
    " PyLab que no es una librería sino un conglomerado de varias librerías entre las que se incluyen numpy, sympy, matplotlib, ipython...\n",
    " Con esta suite podemos usar al interprete de Python como si se tratase de MatLab  y hacer nuestros .py como si fueran scripts de MatLab.\n",
    " PyLab es un programa de código abierto, lo cual no se necesita pagar una licencia.\n",
    "\n",
    " ## Circuitos sencillos para trabjar con la ley de Ohm:\n",
    "\n",
    " La *mal llamada* ley de Ohm reza que el voltaje (la *energía por unidad de carga*) que se disipa en un tramo de un circuito eléctrico es equivalente a la intensidad ($I$) de la corriente (es decir, cuántos electrones circulan por unidad de tiempo) por la resistencia del material ($R$) en el que está desplazándose dicha corriente. Matemáticamente:\n",
    "\n",
    " $$\n",
    " V = I\\cdot R\n",
    " $$\n",
    "\n",
    " > **Pregunta: comprueba que la ecuación anterior está ajustada a nivel dimensional, es decir, que la naturaleza de lo que está a ambos lados del signo    igual es la misma. Realiza este ejercicio con LaTeX en una celda Markdown.**\n",
    " \n",
    "   Para comprobar que la ecuación anterior está ajustada a nivel dimensional, primero escribiré las unidades de medida que equivalen a cada componente de    dicha función: \n",
    " \n",
    "   En primer lugar encontramos $V$ (Voltaje), cuyas unidades son las siguientes: \n",
    " \n",
    "  $$ \n",
    "  V = \\frac{\\mathrm{kg} \\ \\mathrm{m}^{2}}{\\mathrm{A} \\ \\mathrm{s}^{3}}\n",
    "  $$\n",
    " \n",
    "  En segundo lugar encontramos $I$ (Intensidad), cuya unidad de medida son los Amperios (A).\n",
    " \n",
    "  Y por último $R$ (Resistencia), cuyas unidades son las siguientes: \n",
    " \n",
    "  $$ \n",
    "  R = \\frac{V}{I} = \\frac{\\mathrm{kg} \\ \\mathrm{m}^{2}}{\\mathrm{A}^{2} \\ \\mathrm{s}^{3}}\n",
    "  $$\n",
    "\n",
    "  Si sustituimos V, I y R por sus unidades, nos queda la función de la siguiente manera:\n",
    "\n",
    "  $$\n",
    "  V = I\\cdot R --> \\frac{\\mathrm{kg} \\ \\mathrm{m}^{2}}{\\mathrm{A} \\ \\mathrm{s}^{3}} =  \\mathrm{A} \\ \\frac{\\mathrm{kg} \\ \\mathrm{m}^{2}}{\\mathrm{A}^{2} \\     \\mathrm{s}^{3}}\n",
    "  $$\n",
    "\n",
    "  Simplificando la función nos queda la siguiente igualdad:\n",
    "\n",
    "  $$\n",
    "  \\frac{\\mathrm{kg} \\ \\mathrm{m}^{2}}{\\mathrm{A} \\ \\mathrm{s}^{3}} = \\frac{\\mathrm{kg} \\ \\mathrm{m}^{2}}{\\mathrm{A} \\ \\mathrm{s}^{3}}\n",
    "  $$\n",
    "\n",
    "  Confirmamos de esta manera que la ecuación está ajustada a nivel dimensional ya que en ambos lados de la igualdad quedan las mismas unidades.\n",
    " \n",
    " \n",
    "Comencemos con el circuito más sencillo posible de todos:\n",
    "\n",
    " ![](https://raw.githubusercontent.com/pammacdotnet/spicelab/master/primer%20circuito.svg?sanitize=true)\n",
    "\n",
    " Vamos a escribir su contenido (componentes o *netlist*) en disco con el nombre `circuito sencillo.sp`. Esto lo podemos lograr directamente y en tiempo real desde una celda de Jupyter gracias a los *comandos mágicos* de este entorno de programación literaria. En concreto vamos a utilizar `%%writefile` que guarda los contenidos de una celda como un fichero. "
   ]
  },
  {
   "cell_type": "code",
   "execution_count": 4,
   "metadata": {
    "execution": {
     "iopub.execute_input": "2021-01-04T16:56:39.025Z",
     "iopub.status.busy": "2021-01-04T16:56:38.978Z",
     "iopub.status.idle": "2021-01-04T16:56:39.104Z",
     "shell.execute_reply": "2021-01-04T16:56:39.134Z"
    },
    "jupyter": {
     "outputs_hidden": false,
     "source_hidden": false
    },
    "nteract": {
     "transient": {
      "deleting": false
     }
    }
   },
   "outputs": [
    {
     "name": "stdout",
     "output_type": "stream",
     "text": [
      "Overwriting circuito sencillo.sp\n"
     ]
    }
   ],
   "source": [
    "%%writefile \"circuito sencillo.sp\"\n",
    "* Este es un circuito sencillo\n",
    "r1 1 0 10\n",
    "v1 0 1 type=vdc vdc=9\n",
    ".op\n",
    ".dc v1 start=0 stop=9 step=1\n",
    ".end"
   ]
  },
  {
   "cell_type": "markdown",
   "metadata": {},
   "source": [
    "Ahora vamos a leer su descripción con Ahkab, interpretar y ejecutar las simulaciones que en él estén descritas."
   ]
  },
  {
   "cell_type": "code",
   "execution_count": 5,
   "metadata": {
    "execution": {
     "iopub.execute_input": "2021-01-04T16:56:41.365Z",
     "iopub.status.busy": "2021-01-04T16:56:41.339Z",
     "iopub.status.idle": "2021-01-04T16:56:41.406Z",
     "shell.execute_reply": "2021-01-04T16:56:41.439Z"
    },
    "jupyter": {
     "outputs_hidden": false,
     "source_hidden": false
    },
    "nteract": {
     "transient": {
      "deleting": false
     }
    }
   },
   "outputs": [],
   "source": [
    "circuito_y_análisis = ahkab.netlist_parser.parse_circuit('circuito sencillo.sp')"
   ]
  },
  {
   "cell_type": "markdown",
   "metadata": {},
   "source": [
    " Separamos la información del netlist (componentes) de los análisis (uno de tipo `op` y otro de tipo `dc`):"
   ]
  },
  {
   "cell_type": "code",
   "execution_count": 6,
   "metadata": {
    "execution": {
     "iopub.execute_input": "2021-01-04T16:56:49.126Z",
     "iopub.status.busy": "2021-01-04T16:56:49.094Z",
     "iopub.status.idle": "2021-01-04T16:56:49.182Z",
     "shell.execute_reply": "2021-01-04T16:56:49.210Z"
    },
    "jupyter": {
     "outputs_hidden": false,
     "source_hidden": false
    },
    "nteract": {
     "transient": {
      "deleting": false
     }
    }
   },
   "outputs": [
    {
     "name": "stdout",
     "output_type": "stream",
     "text": [
      "[{'type': 'op', 'guess': True, 'x0': None}, {'type': 'dc', 'source': 'v1', 'start': 0.0, 'stop': 9.0, 'step': 1.0, 'sweep_type': 'LIN'}]\n"
     ]
    }
   ],
   "source": [
    "circuito = circuito_y_análisis[0]\n",
    "análisis_en_netlist = circuito_y_análisis[1]\n",
    "lista_de_análisis = ahkab.netlist_parser.parse_analysis(circuito, análisis_en_netlist)\n",
    "print(lista_de_análisis)\n"
   ]
  },
  {
   "cell_type": "markdown",
   "metadata": {},
   "source": [
    "> **Pregunta: ¿qué tipo de estructura de Python es `lista_de_análisis`?**\n",
    "\n",
    "\n",
    "\n",
    " Las simulaciones que implican listas de datos (`.dc`, `.tran`, etc.) necesitan de un fichero temporal (`outfile`)\n",
    " donde almacenar los resultados. Para ello tenemos que definir la propiedad `outfile`."
   ]
  },
  {
   "cell_type": "code",
   "execution_count": 7,
   "metadata": {
    "execution": {
     "iopub.execute_input": "2021-01-04T16:56:52.345Z",
     "iopub.status.busy": "2021-01-04T16:56:52.318Z",
     "iopub.status.idle": "2021-01-04T16:56:52.385Z",
     "shell.execute_reply": "2021-01-04T16:56:52.416Z"
    },
    "jupyter": {
     "outputs_hidden": false,
     "source_hidden": false
    },
    "nteract": {
     "transient": {
      "deleting": false
     }
    }
   },
   "outputs": [],
   "source": [
    "lista_de_análisis[1]['outfile'] = \"simulación dc.tsv\"\n"
   ]
  },
  {
   "cell_type": "markdown",
   "metadata": {},
   "source": [
    " > **Pregunta: escribe el código Python necesario para identificar qué análisis de `lista_de_análisis`\n",
    " son de tipo `dc` ó `tran` y sólo añadir la propiedad `outfile` en estos casos.\n",
    "Aquí tenéis un post de Stackoverflow con algo de [ayuda](https://stackoverflow.com/questions/49194107/how-to-find-index-of-a-dictionary-key-value-within-a-list-python).\n",
    " Un poco más de ayuda: el siguiente código (sí, una única línea) devuelve el índice de la simulación que es de tipo `dc`. Para simplificar un poco el ejercicio, suponed que, como máximo, habrá un análisis de tipo `tran` y/o `dc`.**"
   ]
  },
  {
   "cell_type": "code",
   "execution_count": 8,
   "metadata": {
    "execution": {
     "iopub.execute_input": "2021-01-04T16:56:55.744Z",
     "iopub.status.busy": "2021-01-04T16:56:55.709Z",
     "iopub.status.idle": "2021-01-04T16:56:55.784Z",
     "shell.execute_reply": "2021-01-04T16:56:55.813Z"
    },
    "jupyter": {
     "outputs_hidden": false,
     "source_hidden": false
    },
    "nteract": {
     "transient": {
      "deleting": false
     }
    }
   },
   "outputs": [],
   "source": [
    "#Suponiendo que como máximo habrá un análisis de tipo tran y/o dc, podemos hacer la asignación combinando las dos sentencias anteriores.\n",
    "\n",
    "fichero = [i for i, d in enumerate(lista_de_análisis) if \"dc\" in d.values()][0]\n",
    "lista_de_análisis[fichero]['outfile'] = \"simulación dc.tsv\""
   ]
  },
  {
   "cell_type": "code",
   "execution_count": 9,
   "metadata": {
    "execution": {
     "iopub.execute_input": "2021-01-04T16:56:57.202Z",
     "iopub.status.busy": "2021-01-04T16:56:57.171Z",
     "iopub.status.idle": "2021-01-04T16:56:57.270Z",
     "shell.execute_reply": "2021-01-04T16:56:57.296Z"
    }
   },
   "outputs": [
    {
     "name": "stdout",
     "output_type": "stream",
     "text": [
      "Creamos una lista de 6 ficheros\n",
      "\n",
      "Lista con los tipos 'dc' y 'tran':\n",
      "{'fichero': 0}\n",
      "{'fichero': 1}\n",
      "{'fichero': 2, 'type': 'dc'}\n",
      "{'fichero': 3}\n",
      "{'fichero': 4, 'type': 'tran'}\n",
      "{'fichero': 5}\n",
      "\n",
      "Imprimir fila del tipo \"dc\"\n",
      "[i for i, d in enumerate(fichero) if \"dc\" in d.values()][0]\n",
      "2\n",
      "\n",
      "Imprimir fila del tipo \"tran\"\n",
      "[i for i, d in enumerate(fichero) if \"tran\" in d.values()][0]\n",
      "4\n",
      "\n",
      "Combinando las dos sentancias principales:\n",
      "fichero[ [i for i, d in enumerate(fichero) if \"dc\" in d.values()][0] ]['outfile'] = \"simulación_dc.tsv\"\n",
      "fichero[ [i for i, d in enumerate(fichero) if \"tran\" in d.values()][0] ]['outfile'] = \"simulación_tran.tsv\"\n",
      "\n",
      "Este es el resultado final de la lista:\n",
      "{'fichero': 0}\n",
      "{'fichero': 1}\n",
      "{'fichero': 2, 'type': 'dc', 'outfile': 'simulación_dc.tsv'}\n",
      "{'fichero': 3}\n",
      "{'fichero': 4, 'type': 'tran', 'outfile': 'simulación_tran.tsv'}\n",
      "{'fichero': 5}\n"
     ]
    }
   ],
   "source": [
    "#Lo primero que haremos será crear una lista con un número de archivos \n",
    "print(\"Creamos una lista de 6 ficheros\")\n",
    "fichero=[]\n",
    "for i in range(6):\n",
    "    fichero.append({'fichero':i})\n",
    "\n",
    "# Añadimos el tipo 'type' a 2 de los fichero, 1 con valor 'dc' y otra con valor 'tran'\n",
    "fichero[2]['type'] = 'dc'\n",
    "fichero[4]['type'] = 'tran'\n",
    "\n",
    "#En el siguiente código vamos a imprimir por pantalla como quedaría la lista habiendo añadido anteriormente los tipos de analisis 'dc' y 'tran'.\n",
    "print(\"\\nLista con los tipos 'dc' y 'tran':\")\n",
    "for i in range(6):\n",
    "    print(fichero[i])\n",
    "\n",
    "#Ahora vamos a comprobar que el código nos imprime bien las filas de los valores por los que le preguntamos\n",
    "print(\"\\nImprimir fila del tipo \\\"dc\\\"\")\n",
    "print(\"[i for i, d in enumerate(fichero) if \\\"dc\\\" in d.values()][0]\")\n",
    "print([i for i, d in enumerate(fichero) if \"dc\" in d.values()][0])\n",
    "\n",
    "print(\"\\nImprimir fila del tipo \\\"tran\\\"\")\n",
    "print(\"[i for i, d in enumerate(fichero) if \\\"tran\\\" in d.values()][0]\")\n",
    "print([i for i, d in enumerate(fichero) if \"tran\" in d.values()][0])\n",
    "\n",
    "#Ahora añadiremos a la lista la lista_de_analisis\n",
    "print(\"\\nCombinando las dos sentancias principales:\")\n",
    "print(\"fichero[ [i for i, d in enumerate(fichero) if \\\"dc\\\" in d.values()][0] ]['outfile'] = \\\"simulación_dc.tsv\\\"\")\n",
    "fichero[ [i for i, d in enumerate(fichero) if \"dc\" in d.values()][0] ]['outfile'] = \"simulación_dc.tsv\"\n",
    "print(\"fichero[ [i for i, d in enumerate(fichero) if \\\"tran\\\" in d.values()][0] ]['outfile'] = \\\"simulación_tran.tsv\\\"\")\n",
    "fichero[ [i for i, d in enumerate(fichero) if \"tran\" in d.values()][0] ]['outfile'] = \"simulación_tran.tsv\"\n",
    "\n",
    "# ¿Cómo queda la lista?\n",
    "print(\"\\nEste es el resultado final de la lista:\")\n",
    "for i in range(6):\n",
    "    print(fichero[i])"
   ]
  },
  {
   "cell_type": "markdown",
   "metadata": {},
   "source": [
    "Una vez que ya hemos separado netlists de simulaciones, ahora ejecutamos las segundas (¡todas a la vez!) gracias al método `.run` de Ahkab: "
   ]
  },
  {
   "cell_type": "code",
   "execution_count": 10,
   "metadata": {
    "execution": {
     "iopub.execute_input": "2021-01-04T16:57:02.768Z",
     "iopub.status.busy": "2021-01-04T16:57:02.740Z",
     "iopub.status.idle": "2021-01-04T16:57:03.282Z",
     "shell.execute_reply": "2021-01-04T16:57:03.505Z"
    }
   },
   "outputs": [
    {
     "name": "stdout",
     "output_type": "stream",
     "text": [
      "Starting op analysis:\n",
      "Calculating guess: skipped. (linear circuit)\n",
      "Solving...  -\b\\\b done.\n",
      "Solving...  -\b\\\b done.\n",
      "Difference check within margins.\n",
      "(Voltage: er=0.001, ea=1e-06, Current: er=0.001, ea=1e-09)\n",
      "Starting DC analysis:\n",
      "Solving...  -\b\\\b|\b/\b-\b\\\b|\b/\b-\b\\\b|\bdone\n"
     ]
    }
   ],
   "source": [
    "fichero = ahkab.run(circuito, lista_de_análisis)"
   ]
  },
  {
   "cell_type": "markdown",
   "metadata": {},
   "source": [
    "### Resultados de la simulación `.dc`\n",
    "Imprimimos información sobre la simulación de tipo `.dc`:"
   ]
  },
  {
   "cell_type": "code",
   "execution_count": 11,
   "metadata": {
    "execution": {
     "iopub.execute_input": "2021-01-04T16:57:07.226Z",
     "iopub.status.busy": "2021-01-04T16:57:07.199Z",
     "iopub.status.idle": "2021-01-04T16:57:07.308Z",
     "shell.execute_reply": "2021-01-04T16:57:07.356Z"
    }
   },
   "outputs": [
    {
     "name": "stdout",
     "output_type": "stream",
     "text": [
      "<DC simulation results for '* este es un circuito sencillo' (netlist circuito sencillo.sp). LIN sweep of V1 from 0 to 9 V. Run on 2021-01-04 16:57:02, data file simulación dc.tsv>\n"
     ]
    }
   ],
   "source": [
    "print(fichero['dc'])"
   ]
  },
  {
   "cell_type": "markdown",
   "metadata": {},
   "source": [
    " Veamos qué variables podemos dibujar para el caso del análisis `dc`."
   ]
  },
  {
   "cell_type": "code",
   "execution_count": 12,
   "metadata": {
    "execution": {
     "iopub.execute_input": "2021-01-04T16:57:10.218Z",
     "iopub.status.busy": "2021-01-04T16:57:10.193Z",
     "iopub.status.idle": "2021-01-04T16:57:10.272Z",
     "shell.execute_reply": "2021-01-04T16:57:10.298Z"
    }
   },
   "outputs": [
    {
     "name": "stdout",
     "output_type": "stream",
     "text": [
      "['V1', 'V1', 'I(V1)']\n"
     ]
    }
   ],
   "source": [
    "print(fichero['dc'].keys())"
   ]
  },
  {
   "cell_type": "markdown",
   "metadata": {
    "nteract": {
     "transient": {
      "deleting": false
     }
    }
   },
   "source": [
    "Y ahora graficamos el resultado del análisis anterior. Concretamente vamos a representar el voltaje en el borne 1 (`V1`) con respecto a la intensidad del circuito (`I(V1)`)."
   ]
  },
  {
   "cell_type": "code",
   "execution_count": 15,
   "metadata": {
    "execution": {
     "iopub.execute_input": "2021-01-04T16:57:32.906Z",
     "iopub.status.busy": "2021-01-04T16:57:32.856Z",
     "iopub.status.idle": "2021-01-04T16:57:33.047Z",
     "shell.execute_reply": "2021-01-04T16:57:33.103Z"
    }
   },
   "outputs": [
    {
     "data": {
      "text/plain": [
       "[<matplotlib.lines.Line2D at 0x24703d94408>]"
      ]
     },
     "execution_count": 15,
     "metadata": {},
     "output_type": "execute_result"
    }
   ],
   "source": [
    "fig = plt.figure()\n",
    "plt.title(\"Prueba DC\")\n",
    "plt.plot(fichero['dc']['V1'], fichero['dc']['I(V1)'], label=\"Voltaje (V1)\")"
   ]
  },
  {
   "cell_type": "markdown",
   "metadata": {},
   "source": [
    "> **Pregunta:** comenta la gráfica anterior… ¿qué estamos viendo exactamente? Etiqueta los ejes de la misma convenientemente. Así como ningún número puede *viajar* solo sin hacer referencia a su naturaleza, ninguna gráfica puede estar sin sus ejes convenientemente etiquetados. Algo de [ayuda](https://matplotlib.org/3.1.0/gallery/pyplots/fig_axes_labels_simple.html). ¿Qué biblioteca estamos usando para graficar? Una [pista](https://matplotlib.org).\n",
    "\n",
    "La gráfica que nos encontramos nos muestra los valores del voltaje (V) en ele eje X, frente a la intensidad (I) en el eje Y.\n",
    "\n",
    "Con la gráfica observamos que conforme aumenta el voltaje, aumenta con el la intensidad. \n",
    "\n",
    "Tambíen observamos que la resistencia (R) va a ser de 10Ω :\n",
    "\n",
    "$$\n",
    " V = I\\cdot R\n",
    "$$\n",
    "\n",
    "Si cogemos los valores de la gráfica (en valor absoluto) y hacemos los cálculos:\n",
    "\n",
    "$$\n",
    "  4 = 0.4\\cdot R \n",
    "$$ \n",
    "\n",
    "Despejamos R y calculamos:\n",
    "\n",
    "$$  \n",
    " R = \\frac{4V}{0.4A} = 10Ω\n",
    "$$\n",
    "\n",
    "La gráfica quedaría de la siguiente manera utilzando Matplotlib:\n",
    "  "
   ]
  },
  {
   "cell_type": "code",
   "execution_count": 16,
   "metadata": {
    "execution": {
     "iopub.execute_input": "2021-01-04T16:57:50.552Z",
     "iopub.status.busy": "2021-01-04T16:57:50.518Z",
     "iopub.status.idle": "2021-01-04T16:57:50.626Z",
     "shell.execute_reply": "2021-01-04T16:57:50.654Z"
    },
    "jupyter": {
     "outputs_hidden": false,
     "source_hidden": false
    },
    "nteract": {
     "transient": {
      "deleting": false
     }
    }
   },
   "outputs": [
    {
     "name": "stderr",
     "output_type": "stream",
     "text": [
      "C:\\Users\\Huawei\\scoop\\apps\\miniconda3\\current\\lib\\site-packages\\ipykernel_launcher.py:18: UserWarning: Matplotlib is currently using agg, which is a non-GUI backend, so cannot show the figure.\n"
     ]
    }
   ],
   "source": [
    "import numpy\n",
    "import matplotlib\n",
    "from matplotlib import pylab, mlab, pyplot\n",
    "np = numpy\n",
    "plt = pyplot\n",
    "\n",
    "from IPython.display import display\n",
    "from IPython.core.pylabtools import figsize, getfigs\n",
    "\n",
    "from pylab import *\n",
    "from numpy import *\n",
    "\n",
    "\n",
    "plt.plot(fichero['dc']['V1'], fichero['dc']['I(V1)'], label=\"Voltaje (V1)\")\n",
    "xlabel('potencia (V)')\n",
    "ylabel('intensidad (A)')\n",
    "title('PRUEBA CON RESISTENCIA 10Ω')\n",
    "show()\n",
    "\n"
   ]
  },
  {
   "cell_type": "markdown",
   "metadata": {},
   "source": [
    " ### Resultados de la simulación `.op` \n",
    " El método `.results` nos devuelve un diccionario con los resultados de la simulación."
   ]
  },
  {
   "cell_type": "code",
   "execution_count": 17,
   "metadata": {
    "execution": {
     "iopub.execute_input": "2021-01-04T16:58:13.496Z",
     "iopub.status.busy": "2021-01-04T16:58:13.464Z",
     "iopub.status.idle": "2021-01-04T16:58:13.566Z",
     "shell.execute_reply": "2021-01-04T16:58:13.595Z"
    }
   },
   "outputs": [
    {
     "name": "stdout",
     "output_type": "stream",
     "text": [
      "{V1: -9.0, I(V1): -0.9}\n"
     ]
    }
   ],
   "source": [
    "print(fichero['op'].results)"
   ]
  },
  {
   "cell_type": "markdown",
   "metadata": {},
   "source": [
    " > **Pregunta: justifica el sencillo resultado anterior (análisis `op`). Repite el cálculo con Sympy, atendiendo con mimo a las unidades y al formateo de los resultados (tal y como hemos visto en muchos otros notebooks en clase).**\n",
    " \n",
    " El análisis 'op' nos determina el voltaje (9V) y la intensidad (0.9A). \n",
    " \n",
    " Según la ley de Ohm:\n",
    " \n",
    "$$\n",
    " V = I\\cdot R\n",
    "$$\n",
    " \n",
    "Por tanto vamos a justificar que los valores que nos devuelve el añalisis op son los correctos.\n",
    "Tomando R con valor de 100Ω comprobamos que el resultado es  el mismo que el del analisis op.\n",
    "\n",
    "$$ \n",
    " I = \\frac{V}{R} = \\frac{9V}{10Ω} = 0.9A\n",
    "$$\n",
    "\n",
    "Ahora comprobaremos el ejercicio con Sympy:"
   ]
  },
  {
   "cell_type": "code",
   "execution_count": 18,
   "metadata": {
    "execution": {
     "iopub.execute_input": "2021-01-04T16:58:17.794Z",
     "iopub.status.busy": "2021-01-04T16:58:17.744Z",
     "iopub.status.idle": "2021-01-04T16:58:18.537Z",
     "shell.execute_reply": "2021-01-04T16:58:18.713Z"
    },
    "jupyter": {
     "outputs_hidden": false,
     "source_hidden": false
    },
    "nteract": {
     "transient": {
      "deleting": false
     }
    }
   },
   "outputs": [
    {
     "name": "stdout",
     "output_type": "stream",
     "text": [
      "\n",
      "la intensidad en amperios es:\n"
     ]
    },
    {
     "data": {
      "text/latex": [
       "$\\displaystyle 0.9 \\text{A}$"
      ],
      "text/plain": [
       "0.9*ampere"
      ]
     },
     "execution_count": 18,
     "metadata": {},
     "output_type": "execute_result"
    }
   ],
   "source": [
    "from sympy import solve, symbols, Eq\n",
    "\n",
    "from sympy. physics.units import convert_to\n",
    "\n",
    "from sympy. physics.units import ampere\n",
    "\n",
    "from sympy. physics.units import volt\n",
    "\n",
    "from sympy. physics.units import ohm\n",
    "\n",
    "R = 10 * ohm\n",
    "\n",
    "V = 9 * volt\n",
    "\n",
    "I = symbols(\"intensidad\")\n",
    "\n",
    "eq_ohm = Eq(I, V/R)\n",
    "\n",
    "solucion_I = solve(eq_ohm, I)\n",
    "\n",
    "I = solucion_I\n",
    "\n",
    "I = convert_to(solucion_I[0], [ampere]).n(2)\n",
    "\n",
    "print(\"\\nla intensidad en amperios es:\")\n",
    "I"
   ]
  },
  {
   "cell_type": "markdown",
   "metadata": {},
   "source": [
    "## Resolución del mismo circuito pero con LTspice\n",
    "¿Cómo? ¿Es esto posible? ¿Desde Jupyter? Sí!!! Pero primero, por comodidad, deberíamos crear un alias del comando que apunte a nuestro ejecutable. Además, con un poco de inteligencia, podemos adelantarnos al hecho de si estamos en Windows o macOS:"
   ]
  },
  {
   "cell_type": "code",
   "execution_count": 19,
   "metadata": {
    "execution": {
     "iopub.execute_input": "2021-01-04T16:58:23.951Z",
     "iopub.status.busy": "2021-01-04T16:58:23.913Z",
     "iopub.status.idle": "2021-01-04T16:58:23.999Z",
     "shell.execute_reply": "2021-01-04T16:58:24.029Z"
    }
   },
   "outputs": [],
   "source": [
    "import platform\n",
    "%alias lts /Applications/LTspice.app/Contents/MacOS/LTspice -ascii -b\n",
    "if platform.system() == \"Windows\":\n",
    "    %alias lts \"C:\\Program Files\\LTC\\LTspiceXVII\\XVIIx64.exe\" -ascii -b"
   ]
  },
  {
   "cell_type": "markdown",
   "metadata": {},
   "source": [
    "**Pregunta: ¿Qué significan las opciones `-b` y `-ascii`? Algo de ayuda [aquí](http://ltwiki.org/LTspiceHelp/LTspiceHelp/Command_Line_Switches.htm).**\n",
    "\n",
    "ASCII es un sistema de codificación de caracteres alfanuméricos. El parámetro -ascii es el encargado de hacer correr el programa con los archivos en dicho código (ascii).\n",
    "\n",
    "El parametro -b lee el código y los datos obtenidos se guardan en los archivos .raw. "
   ]
  },
  {
   "cell_type": "markdown",
   "metadata": {},
   "source": [
    "También tenemos que cambiar ligeramente la sintaxis. Ejecuta esta línea para que se escriba el fichero siguiente. Para LTspice, vamos a reservar la extensión `.net`:"
   ]
  },
  {
   "cell_type": "code",
   "execution_count": 20,
   "metadata": {
    "execution": {
     "iopub.execute_input": "2021-01-04T16:58:28.575Z",
     "iopub.status.busy": "2021-01-04T16:58:28.511Z",
     "iopub.status.idle": "2021-01-04T16:58:28.688Z",
     "shell.execute_reply": "2021-01-04T16:58:28.733Z"
    }
   },
   "outputs": [
    {
     "name": "stdout",
     "output_type": "stream",
     "text": [
      "Overwriting circuito sencillo.net\n"
     ]
    }
   ],
   "source": [
    "%%writefile \"circuito sencillo.net\"\n",
    "* Este es un circuito sencillo adaptado para LTspice\n",
    "r1 1 0 10\n",
    "v1 0 1 9\n",
    ".op\n",
    "* Comentamos el análisis .dc para centrarnos primero en el .op\n",
    "* .dc v1 1 10 \n",
    ".end"
   ]
  },
  {
   "cell_type": "markdown",
   "metadata": {},
   "source": [
    "Ejecutamos LTspice con el circuito (de la misma manera que antes habíamos hecho con Ahkab)."
   ]
  },
  {
   "cell_type": "code",
   "execution_count": 21,
   "metadata": {
    "execution": {
     "iopub.execute_input": "2021-01-04T16:58:35.004Z",
     "iopub.status.busy": "2021-01-04T16:58:34.961Z",
     "iopub.status.idle": "2021-01-04T16:58:36.371Z",
     "shell.execute_reply": "2021-01-04T16:58:36.408Z"
    }
   },
   "outputs": [],
   "source": [
    "lts \"circuito sencillo.net\""
   ]
  },
  {
   "cell_type": "markdown",
   "metadata": {},
   "source": [
    "Cuando ejecutamos el comando anterior lo que hacemos es llamar internamente al programa LTSpice en modo línea de comandos. \n",
    "\n",
    "Este comando nos devuelve el resultado guardado en un fichero llamado .log \n",
    "\n",
    "Veamos que sucede cuando ejecutamos dicho fichero:\n",
    "\n"
   ]
  },
  {
   "cell_type": "code",
   "execution_count": 22,
   "metadata": {
    "execution": {
     "iopub.execute_input": "2021-01-04T16:58:38.532Z",
     "iopub.status.busy": "2021-01-04T16:58:38.505Z",
     "iopub.status.idle": "2021-01-04T16:58:38.573Z",
     "shell.execute_reply": "2021-01-04T16:58:38.613Z"
    }
   },
   "outputs": [],
   "source": [
    "%pycat circuito sencillo.log"
   ]
  },
  {
   "cell_type": "markdown",
   "metadata": {},
   "source": [
    "Ahora repitamos lo mismo para el análisis `.dc`:"
   ]
  },
  {
   "cell_type": "code",
   "execution_count": 23,
   "metadata": {
    "execution": {
     "iopub.execute_input": "2021-01-04T16:58:42.675Z",
     "iopub.status.busy": "2021-01-04T16:58:42.640Z",
     "iopub.status.idle": "2021-01-04T16:58:42.741Z",
     "shell.execute_reply": "2021-01-04T16:58:42.766Z"
    }
   },
   "outputs": [
    {
     "name": "stdout",
     "output_type": "stream",
     "text": [
      "Overwriting circuito sencillo.net\n"
     ]
    }
   ],
   "source": [
    "%%writefile \"circuito sencillo.net\"\n",
    "* Este es un circuito sencillo adaptado para LTspice\n",
    "r1 1 0 10\n",
    "v1 0 1 9\n",
    "* Ahora obviamos el análisis .op\n",
    "* .op\n",
    ".dc v1 1 10 \n",
    ".end\n"
   ]
  },
  {
   "cell_type": "code",
   "execution_count": 24,
   "metadata": {
    "execution": {
     "iopub.execute_input": "2021-01-04T16:58:45.046Z",
     "iopub.status.busy": "2021-01-04T16:58:45.005Z",
     "iopub.status.idle": "2021-01-04T16:58:46.191Z",
     "shell.execute_reply": "2021-01-04T16:58:46.236Z"
    }
   },
   "outputs": [],
   "source": [
    "lts \"circuito sencillo.net\""
   ]
  },
  {
   "cell_type": "markdown",
   "metadata": {},
   "source": [
    "Al ejecutar esta simulación, se genera un fichero `.raw` con los resultados. Es muy parecido al `outfile` que hemos empleado antes con Ahkab. Para leer este fichero, tenemos que usar el paquete [ltspice de Python](https://github.com/DongHoonPark/ltspice_pytool), el cual podéis instalar directamente desde Jupyter:"
   ]
  },
  {
   "cell_type": "code",
   "execution_count": 25,
   "metadata": {
    "execution": {
     "iopub.execute_input": "2021-01-04T16:58:51.005Z",
     "iopub.status.busy": "2021-01-04T16:58:50.969Z",
     "iopub.status.idle": "2021-01-04T16:58:52.561Z",
     "shell.execute_reply": "2021-01-04T16:58:52.635Z"
    }
   },
   "outputs": [
    {
     "name": "stdout",
     "output_type": "stream",
     "text": [
      "Requirement already satisfied: ltspice in c:\\users\\huawei\\appdata\\local\\programs\\python\\python38\\lib\\site-packages (1.0.0)\n",
      "Requirement already satisfied: numpy in c:\\users\\huawei\\appdata\\local\\programs\\python\\python38\\lib\\site-packages (from ltspice) (1.19.4)\n"
     ]
    },
    {
     "name": "stderr",
     "output_type": "stream",
     "text": [
      "WARNING: You are using pip version 19.2.3, however version 20.3.3 is available.\n",
      "You should consider upgrading via the 'python -m pip install --upgrade pip' command.\n"
     ]
    }
   ],
   "source": [
    "!pip install ltspice"
   ]
  },
  {
   "cell_type": "markdown",
   "metadata": {},
   "source": [
    "Ahora ya podemos leer este fichero `.raw` y pintar una recta de voltaje muy parecida a la que obtuvimos anteriormente con Ahkab:"
   ]
  },
  {
   "cell_type": "code",
   "execution_count": 26,
   "metadata": {
    "execution": {
     "iopub.execute_input": "2021-01-04T16:58:57.506Z",
     "iopub.status.busy": "2021-01-04T16:58:57.478Z",
     "iopub.status.idle": "2021-01-04T16:58:57.625Z",
     "shell.execute_reply": "2021-01-04T16:58:57.720Z"
    }
   },
   "outputs": [
    {
     "data": {
      "text/plain": [
       "[<matplotlib.lines.Line2D at 0x247044bd548>]"
      ]
     },
     "execution_count": 26,
     "metadata": {},
     "output_type": "execute_result"
    }
   ],
   "source": [
    "import numpy\n",
    "import matplotlib\n",
    "from matplotlib import pylab, mlab, pyplot\n",
    "np = numpy\n",
    "plt = pyplot\n",
    "\n",
    "from IPython.display import display\n",
    "from IPython.core.pylabtools import figsize, getfigs\n",
    "\n",
    "from pylab import *\n",
    "from numpy import *\n",
    "\n",
    "import ltspice\n",
    "\n",
    "l = ltspice.Ltspice(\"circuito sencillo.raw\")\n",
    "l.parse()\n",
    "tiempo = l.get_time()\n",
    "voltaje = l.get_data('V(1)')\n",
    "corriente = l.get_data('I(V1)')\n",
    "# Podemos pintar la corrente en función del tiempo\n",
    "# plt.plot(tiempo, corriente)\n",
    "# O el voltaje\n",
    "xlabel('potencia (V)')\n",
    "ylabel('intensidad (A)')\n",
    "title('PRUEBA CON RESISTENCIA 10Ω')\n",
    "\n",
    "plt.plot(voltaje, corriente)\n"
   ]
  },
  {
   "cell_type": "markdown",
   "metadata": {},
   "source": [
    "** En resumen: ** hemos usado dos *compiladores* Spice distintos para hacer el mismo ejercicio. De igual manera podríamos haber usado [Ngspice](http://ngspice.sourceforge.net) u otro. De hecho, podíamos haber usado Ahkab en modo comando. Si tenemos correctamente instalado este framework, en princpio podemos invocarlo [directamente desde línea de comandos](https://ahkab.readthedocs.io/en/latest/help/Command-Line-Help.html):"
   ]
  },
  {
   "cell_type": "code",
   "execution_count": 27,
   "metadata": {
    "execution": {
     "iopub.execute_input": "2021-01-04T16:59:04.150Z",
     "iopub.status.busy": "2021-01-04T16:59:04.120Z",
     "iopub.status.idle": "2021-01-04T16:59:05.540Z",
     "shell.execute_reply": "2021-01-04T16:59:05.596Z"
    }
   },
   "outputs": [
    {
     "name": "stderr",
     "output_type": "stream",
     "text": [
      "Traceback (most recent call last):\n",
      "  File \"C:\\Users\\Huawei\\AppData\\Local\\Programs\\Python\\Python38\\Scripts\\ahkab-script.py\", line 11, in <module>\n",
      "    load_entry_point('ahkab==0.18', 'console_scripts', 'ahkab')()\n",
      "  File \"c:\\users\\huawei\\appdata\\local\\programs\\python\\python38\\lib\\site-packages\\pkg_resources\\__init__.py\", line 489, in load_entry_point\n",
      "    return get_distribution(dist).load_entry_point(group, name)\n",
      "  File \"c:\\users\\huawei\\appdata\\local\\programs\\python\\python38\\lib\\site-packages\\pkg_resources\\__init__.py\", line 2852, in load_entry_point\n",
      "    return ep.load()\n",
      "  File \"c:\\users\\huawei\\appdata\\local\\programs\\python\\python38\\lib\\site-packages\\pkg_resources\\__init__.py\", line 2443, in load\n",
      "    return self.resolve()\n",
      "  File \"c:\\users\\huawei\\appdata\\local\\programs\\python\\python38\\lib\\site-packages\\pkg_resources\\__init__.py\", line 2449, in resolve\n",
      "    module = __import__(self.module_name, fromlist=['__name__'], level=0)\n",
      "  File \"c:\\users\\huawei\\appdata\\local\\programs\\python\\python38\\lib\\site-packages\\ahkab\\__init__.py\", line 41, in <module>\n",
      "    from .ahkab import new_op, new_dc, new_tran, new_ac, new_pss, new_pz\n",
      "  File \"c:\\users\\huawei\\appdata\\local\\programs\\python\\python38\\lib\\site-packages\\ahkab\\ahkab.py\", line 157, in <module>\n",
      "    import numpy as np\n",
      "  File \"c:\\users\\huawei\\appdata\\local\\programs\\python\\python38\\lib\\site-packages\\numpy\\__init__.py\", line 305, in <module>\n",
      "    _win_os_check()\n",
      "  File \"c:\\users\\huawei\\appdata\\local\\programs\\python\\python38\\lib\\site-packages\\numpy\\__init__.py\", line 302, in _win_os_check\n",
      "    raise RuntimeError(msg.format(__file__)) from None\n",
      "RuntimeError: The current Numpy installation ('c:\\\\users\\\\huawei\\\\appdata\\\\local\\\\programs\\\\python\\\\python38\\\\lib\\\\site-packages\\\\numpy\\\\__init__.py') fails to pass a sanity check due to a bug in the windows runtime. See this issue for more information: https://tinyurl.com/y3dm3h86\n"
     ]
    }
   ],
   "source": [
    "!ahkab \"circuito sencillo.sp\""
   ]
  },
  {
   "cell_type": "markdown",
   "metadata": {},
   "source": [
    "**Ejercicio premium**: Graficar los datos anteriores con [Gnuplot](http://www.gnuplot.info). "
   ]
  },
  {
   "cell_type": "markdown",
   "metadata": {},
   "source": [
    " ## Análisis de circuito con resistencias en serie"
   ]
  },
  {
   "cell_type": "markdown",
   "metadata": {},
   "source": [
    "Vamos a resolver (en punto de operación) el siguiente circuito.\n",
    "\n",
    "Formado por una pila de 9V y 3 resistencias; R1(3kΩ), R2(10kΩ) y R3(5kΩ):\n",
    "\n",
    "![](https://raw.githubusercontent.com/pammacdotnet/spicelab/master/resistencias%20en%20serie.svg?sanitize=true)\n",
    "\n",
    "Al igual que antes, grabamos el netlist en disco desde Jupyter gracias a la *palabra mágica* [`%writefile`](https://ipython.readthedocs.io/en/stable/interactive/magics.html#cellmagic-writefile). Más info [aquí](https://ipython.readthedocs.io/en/stable/interactive/magics.html#cellmagic-writefile). "
   ]
  },
  {
   "cell_type": "code",
   "execution_count": 28,
   "metadata": {
    "execution": {
     "iopub.execute_input": "2021-01-04T16:59:21.059Z",
     "iopub.status.busy": "2021-01-04T16:59:21.014Z",
     "iopub.status.idle": "2021-01-04T16:59:21.146Z",
     "shell.execute_reply": "2021-01-04T16:59:21.177Z"
    }
   },
   "outputs": [
    {
     "name": "stdout",
     "output_type": "stream",
     "text": [
      "Overwriting resistencias en serie.net\n"
     ]
    }
   ],
   "source": [
    "%%writefile \"resistencias en serie.net\"\n",
    "* circuito con tres resistencias en serie\n",
    "v1 1 0 type=vdc vdc=9\n",
    "R1 0 2 3k\n",
    "R2 2 3 10k  \n",
    "R3 3 1 5k\n",
    "* análisis del circuito\n",
    ".op\n",
    ".end"
   ]
  },
  {
   "cell_type": "code",
   "execution_count": 29,
   "metadata": {
    "execution": {
     "iopub.execute_input": "2021-01-04T16:59:24.009Z",
     "iopub.status.busy": "2021-01-04T16:59:23.972Z",
     "iopub.status.idle": "2021-01-04T16:59:24.255Z",
     "shell.execute_reply": "2021-01-04T16:59:24.291Z"
    }
   },
   "outputs": [
    {
     "name": "stdout",
     "output_type": "stream",
     "text": [
      "Starting op analysis:\n",
      "Calculating guess: skipped. (linear circuit)\n",
      "Solving...  -\b\\\b done.\n",
      "Solving...  -\b\\\b done.\n",
      "Difference check within margins.\n",
      "(Voltage: er=0.001, ea=1e-06, Current: er=0.001, ea=1e-09)\n"
     ]
    }
   ],
   "source": [
    "circuito_y_análisis = ahkab.netlist_parser.parse_circuit('resistencias en serie.net')\n",
    "circuito = circuito_y_análisis[0]       \n",
    "análisis_en_netlist = circuito_y_análisis[1]\n",
    "lista_de_análisis = ahkab.netlist_parser.parse_analysis(circuito, análisis_en_netlist)\n",
    "resultados = ahkab.run(circuito, lista_de_análisis)"
   ]
  },
  {
   "cell_type": "markdown",
   "metadata": {},
   "source": [
    "Imprimos los resultados del análisis `.op`:"
   ]
  },
  {
   "cell_type": "code",
   "execution_count": 30,
   "metadata": {
    "execution": {
     "iopub.execute_input": "2021-01-04T16:59:27.965Z",
     "iopub.status.busy": "2021-01-04T16:59:27.928Z",
     "iopub.status.idle": "2021-01-04T16:59:28.037Z",
     "shell.execute_reply": "2021-01-04T16:59:28.069Z"
    }
   },
   "outputs": [
    {
     "name": "stdout",
     "output_type": "stream",
     "text": [
      "OP simulation results for '* circuito con tres resistencias en serie'(netlist resistencias en serie.net).\n",
      "Run on 2021-01-04 16:59:23, data file None.\n",
      "Variable    Units      Value     Error    %\n",
      "----------  -------  -------  --------  ---\n",
      "V1          V         9       -9e-12      0\n",
      "V2          V         1.5     -1.5e-12    0\n",
      "V3          V         6.5     -6.5e-12    0\n",
      "I(V1)       A        -0.0005   0          0\n"
     ]
    }
   ],
   "source": [
    "print(resultados['op'])"
   ]
  },
  {
   "cell_type": "markdown",
   "metadata": {},
   "source": [
    "Los cantidades `V1`, `V2` y `V3` hacen referencia a los distintos valores del potencial que se ha perdido en cada uno de los bornes que has elegido para describir el netlist (`1`, `2`, etc.). Por ejemplo, podemos calcular el *potencial consumido* por la resistencia `R1` y verás que coincide con el del punto `V2` devuelto por Ahkab.\n"
   ]
  },
  {
   "cell_type": "markdown",
   "metadata": {
    "nteract": {
     "transient": {
      "deleting": false
     }
    }
   },
   "source": [
    "**Ejercicio: compruébalo tú mismo y refléjalo por escrito.**\n",
    "\n",
    "Para que el resultado no nos de problemas lo primero que haremos será renombrar el orden en el que se han definido las resistencias; empezando por nombrar el born 0 (el que se encuentra debajo de la pila), de tal manera que el circuito quedaría renombrado de la siguiente manera:"
   ]
  },
  {
   "cell_type": "code",
   "execution_count": null,
   "metadata": {
    "collapsed": true,
    "jupyter": {
     "outputs_hidden": false,
     "source_hidden": false
    },
    "nteract": {
     "transient": {
      "deleting": false
     }
    }
   },
   "outputs": [],
   "source": [
    "Spice\n",
    " v1 1 0 type=vdc vdc=9\n",
    " R1 1 2 3k\n",
    " R2 2 3 10k\n",
    " R3 3 0 5k"
   ]
  },
  {
   "cell_type": "code",
   "execution_count": 31,
   "metadata": {
    "collapsed": true,
    "execution": {
     "iopub.execute_input": "2021-01-04T16:59:55.090Z",
     "iopub.status.busy": "2021-01-04T16:59:55.055Z",
     "iopub.status.idle": "2021-01-04T16:59:55.154Z",
     "shell.execute_reply": "2021-01-04T16:59:55.186Z"
    },
    "jupyter": {
     "outputs_hidden": false,
     "source_hidden": false
    },
    "nteract": {
     "transient": {
      "deleting": false
     }
    }
   },
   "outputs": [
    {
     "name": "stdout",
     "output_type": "stream",
     "text": [
      "Overwriting resistencias en serie II.net\n"
     ]
    }
   ],
   "source": [
    "%%writefile \"resistencias en serie II.net\"\n",
    "* circuito con tres resistencias en serie\n",
    "v1 1 0 type=vdc vdc=9\n",
    "R1 1 2 3k\n",
    "R2 2 3 10k\n",
    "R3 3 0 5k\n",
    "* análisis del circuito\n",
    ".op\n",
    ".end"
   ]
  },
  {
   "cell_type": "code",
   "execution_count": 32,
   "metadata": {
    "collapsed": true,
    "execution": {
     "iopub.execute_input": "2021-01-04T16:59:57.036Z",
     "iopub.status.busy": "2021-01-04T16:59:57.001Z",
     "iopub.status.idle": "2021-01-04T16:59:57.233Z",
     "shell.execute_reply": "2021-01-04T16:59:57.260Z"
    },
    "jupyter": {
     "outputs_hidden": false,
     "source_hidden": false
    },
    "nteract": {
     "transient": {
      "deleting": false
     }
    }
   },
   "outputs": [
    {
     "name": "stdout",
     "output_type": "stream",
     "text": [
      "Starting op analysis:\n",
      "Calculating guess: skipped. (linear circuit)\n",
      "Solving...  -\b\\\b done.\n",
      "Solving...  -\b\\\b done.\n",
      "Difference check within margins.\n",
      "(Voltage: er=0.001, ea=1e-06, Current: er=0.001, ea=1e-09)\n"
     ]
    }
   ],
   "source": [
    "circuito_y_análisis = ahkab.netlist_parser.parse_circuit('resistencias en serie II.net')\n",
    "circuito = circuito_y_análisis[0]       \n",
    "análisis_en_netlist = circuito_y_análisis[1]\n",
    "lista_de_análisis = ahkab.netlist_parser.parse_analysis(circuito, análisis_en_netlist)\n",
    "resultados = ahkab.run(circuito, lista_de_análisis)"
   ]
  },
  {
   "cell_type": "code",
   "execution_count": 33,
   "metadata": {
    "collapsed": true,
    "execution": {
     "iopub.execute_input": "2021-01-04T16:59:59.181Z",
     "iopub.status.busy": "2021-01-04T16:59:59.147Z",
     "iopub.status.idle": "2021-01-04T16:59:59.242Z",
     "shell.execute_reply": "2021-01-04T16:59:59.270Z"
    },
    "jupyter": {
     "outputs_hidden": false,
     "source_hidden": false
    },
    "nteract": {
     "transient": {
      "deleting": false
     }
    }
   },
   "outputs": [
    {
     "name": "stdout",
     "output_type": "stream",
     "text": [
      "OP simulation results for '* circuito con tres resistencias en serie'(netlist resistencias en serie II.net).\n",
      "Run on 2021-01-04 16:59:56, data file None.\n",
      "Variable    Units      Value     Error    %\n",
      "----------  -------  -------  --------  ---\n",
      "V1          V         9       -9e-12      0\n",
      "V2          V         7.5     -7.5e-12    0\n",
      "V3          V         2.5     -2.5e-12    0\n",
      "I(V1)       A        -0.0005   0          0\n"
     ]
    }
   ],
   "source": [
    "print(resultados['op'])"
   ]
  },
  {
   "cell_type": "markdown",
   "metadata": {
    "nteract": {
     "transient": {
      "deleting": false
     }
    }
   },
   "source": [
    "Una vez renombrado el circuito, vamos a comprobar que el potencial consumido por la resistencia R1 coincide con el punto V2 devuelto por Ahkab.\n",
    "\n",
    "En el circuito encontramos R1(3kΩ), R2(10kΩ) y R3(5kΩ).\n",
    "\n",
    "Estas resistencias las podemos trabajar en serie de tal manera que el circuito estuviese compuesto de 2 resistencias en vez de 3. La primera resistencia sería R1 (3kΩ) y la otra resistencia sería R2 + R3 (10kΩ + 5kΩ = 15kΩ). \n",
    "\n",
    "La carga total sería la siguiente: \n",
    "\n",
    "R1 + R2 + R3 = 3kΩ + 10kΩ + 5kΩ = 18kΩ"
   ]
  },
  {
   "cell_type": "markdown",
   "metadata": {
    "nteract": {
     "transient": {
      "deleting": false
     }
    }
   },
   "source": [
    "Primero vamos a comprobar que la corriente corresponde a la que nos devuelve Ahkab. \n",
    "\n",
    "Para ello vamos a calcularla manualmente mediante la Ley de Ohm:"
   ]
  },
  {
   "cell_type": "markdown",
   "metadata": {
    "nteract": {
     "transient": {
      "deleting": false
     }
    }
   },
   "source": [
    "$$\n",
    " V = I\\cdot R\n",
    "$$\n",
    "\n",
    "$$ \n",
    " I = \\frac{V}{R} = \\frac{9V}{18kΩ} = 0.0005A\n",
    "$$"
   ]
  },
  {
   "cell_type": "markdown",
   "metadata": {
    "nteract": {
     "transient": {
      "deleting": false
     }
    }
   },
   "source": [
    "Como observamos la intensidad corresponde con los 0.0005A que nos devuelve Ahkab para I(V1).\n",
    "\n",
    "Como las resistencias están en serie, la intensidad será la misma para todo el circuito y por ello podemos calcular la caída de potencial en cada resistencia:"
   ]
  },
  {
   "cell_type": "markdown",
   "metadata": {
    "nteract": {
     "transient": {
      "deleting": false
     }
    }
   },
   "source": [
    "$$\n",
    " V1 = I\\cdot R1 = 0.0005A . 3000Ω = 1.5V\n",
    "$$\n",
    "\n",
    "$$\n",
    " V2 = I\\cdot R2 = 0.0005A . 10000Ω = 5V\n",
    "$$\n",
    "\n",
    "$$\n",
    " V3 = I\\cdot R3 = 0.0005A . 5000Ω = 2.5V\n",
    "$$"
   ]
  },
  {
   "cell_type": "markdown",
   "metadata": {
    "nteract": {
     "transient": {
      "deleting": false
     }
    }
   },
   "source": [
    "Si observamos:   \n",
    "$$\n",
    " V1 + V2 + V3 = 1.5V + 5V + 2.5V = 9V\n",
    "$$\n",
    "\n",
    "Y además la suma de las resistencias \n",
    "\n",
    "$$\n",
    "R2 + R3 = 5V + 2.5V = 7.5V\n",
    "$$\n",
    "\n",
    "Queda comprobado que coinciden los resultados ya que V2 es la diferencia de potencial entre la conexión de la resistencia R1 con la resistencia R2 y toma a tierra. "
   ]
  },
  {
   "cell_type": "markdown",
   "metadata": {},
   "source": [
    "Cargamos primero todo lo relacionado con Sympy:"
   ]
  },
  {
   "cell_type": "code",
   "execution_count": 34,
   "metadata": {
    "execution": {
     "iopub.execute_input": "2021-01-04T17:01:00.824Z",
     "iopub.status.busy": "2021-01-04T17:01:00.781Z",
     "iopub.status.idle": "2021-01-04T17:01:00.874Z",
     "shell.execute_reply": "2021-01-04T17:01:00.906Z"
    }
   },
   "outputs": [],
   "source": [
    "from sympy.physics.units import ohms, amperes, volts\n",
    "from sympy.physics.units import convert_to"
   ]
  },
  {
   "cell_type": "code",
   "execution_count": 35,
   "metadata": {
    "execution": {
     "iopub.execute_input": "2021-01-04T17:01:04.528Z",
     "iopub.status.busy": "2021-01-04T17:01:04.496Z",
     "iopub.status.idle": "2021-01-04T17:01:04.606Z",
     "shell.execute_reply": "2021-01-04T17:01:04.639Z"
    }
   },
   "outputs": [
    {
     "data": {
      "text/latex": [
       "$\\displaystyle - 1.5 \\text{V}$"
      ],
      "text/plain": [
       "-1.5*volt"
      ]
     },
     "execution_count": 35,
     "metadata": {},
     "output_type": "execute_result"
    }
   ],
   "source": [
    "r1 = 3E3*ohms\n",
    "intensidad_ahkab = resultados['op']['I(V1)'][0][0]*amperes\n",
    "v2 = convert_to(intensidad_ahkab*r1, [volts])\n",
    "v2"
   ]
  },
  {
   "cell_type": "markdown",
   "metadata": {},
   "source": [
    " > **Pregunta: reproduce el resto de los valores anteriores de manera *manual* mediante Sympy (es decir, aplicando la ley de Ohm, pero con un *toque computacional*). Te pongo aquí un ejemplo del que puedes partir… En él sólo calculo la corriente que circula por el circuito (sí, justo la que antes Ahkab ha devuelto de manera automática). Para ello necesito previamente computar la resistencia total (`r_total`). Faltarían el resto de resultados y convertirlos a unidades más *vistosas* (mediante la orden `convert_to` y `.n()`).**"
   ]
  },
  {
   "cell_type": "code",
   "execution_count": 36,
   "metadata": {
    "execution": {
     "iopub.execute_input": "2021-01-04T17:01:08.191Z",
     "iopub.status.busy": "2021-01-04T17:01:08.156Z",
     "iopub.status.idle": "2021-01-04T17:01:08.331Z",
     "shell.execute_reply": "2021-01-04T17:01:08.387Z"
    }
   },
   "outputs": [
    {
     "name": "stdout",
     "output_type": "stream",
     "text": [
      "\n",
      "La intensidad es:\n"
     ]
    },
    {
     "data": {
      "text/latex": [
       "$\\displaystyle 0.0005 \\text{A}$"
      ],
      "text/plain": [
       "0.0005*ampere"
      ]
     },
     "execution_count": 36,
     "metadata": {},
     "output_type": "execute_result"
    }
   ],
   "source": [
    "from sympy.physics.units import kilo\n",
    "from sympy import solve, symbols, Eq\n",
    "v1 = 9*volts\n",
    "r1 = 3*kilo*ohms\n",
    "r2 = 10*kilo*ohms\n",
    "r3 = 5*kilo*ohms\n",
    "r_total = r1 + r2 + r3\n",
    "intensidad = symbols('i')\n",
    "ley_ohm = Eq(v1, intensidad*r_total)\n",
    "solucion_para_intensidad = solve(ley_ohm, intensidad)\n",
    "\n",
    "print(\"\\nLa intensidad es:\")\n",
    "convert_to(solucion_para_intensidad[0], [amperes]).n(2)"
   ]
  },
  {
   "cell_type": "code",
   "execution_count": null,
   "metadata": {
    "collapsed": true,
    "jupyter": {
     "outputs_hidden": false,
     "source_hidden": false
    },
    "nteract": {
     "transient": {
      "deleting": false
     }
    }
   },
   "outputs": [],
   "source": [
    "Para realizar este ejercicio utilizaremos el primer analisis .op que nos había devuelto Ahkab antes de renombrar nosotros el circuito."
   ]
  },
  {
   "cell_type": "code",
   "execution_count": 71,
   "metadata": {
    "collapsed": true,
    "execution": {
     "iopub.execute_input": "2021-01-04T18:31:55.407Z",
     "iopub.status.busy": "2021-01-04T18:31:55.341Z",
     "iopub.status.idle": "2021-01-04T18:31:55.610Z",
     "shell.execute_reply": "2021-01-04T18:31:55.672Z"
    },
    "jupyter": {
     "outputs_hidden": false,
     "source_hidden": false
    },
    "nteract": {
     "transient": {
      "deleting": false
     }
    }
   },
   "outputs": [
    {
     "name": "stdout",
     "output_type": "stream",
     "text": [
      "\n",
      "La resistencia total es:\n"
     ]
    },
    {
     "data": {
      "text/latex": [
       "$\\displaystyle 18000.0 \\Omega$"
      ],
      "text/plain": [
       "18000.0*ohm"
      ]
     },
     "execution_count": 71,
     "metadata": {},
     "output_type": "execute_result"
    }
   ],
   "source": [
    "from sympy.physics.units import kilo\n",
    "from sympy.physics.units import ohm\n",
    "from sympy import solve, symbols\n",
    "r1 = 3E3*ohms\n",
    "r2 = 10E3*ohms\n",
    "r3 = 5E3*ohms\n",
    "r_total = r1 + r2 + r3\n",
    "\n",
    "print(\"\\nLa resistencia total es:\")\n",
    "r_total"
   ]
  },
  {
   "cell_type": "code",
   "execution_count": 38,
   "metadata": {
    "collapsed": true,
    "execution": {
     "iopub.execute_input": "2021-01-04T17:01:21.843Z",
     "iopub.status.busy": "2021-01-04T17:01:21.814Z",
     "iopub.status.idle": "2021-01-04T17:01:21.922Z",
     "shell.execute_reply": "2021-01-04T17:01:21.948Z"
    },
    "jupyter": {
     "outputs_hidden": false,
     "source_hidden": false
    },
    "nteract": {
     "transient": {
      "deleting": false
     }
    }
   },
   "outputs": [
    {
     "name": "stdout",
     "output_type": "stream",
     "text": [
      "\n",
      "Potencial V1 es:\n"
     ]
    },
    {
     "data": {
      "text/latex": [
       "$\\displaystyle 1.5 \\text{V}$"
      ],
      "text/plain": [
       "1.5*volt"
      ]
     },
     "execution_count": 38,
     "metadata": {},
     "output_type": "execute_result"
    }
   ],
   "source": [
    "voltaje = symbols('v')\n",
    "ley_ohm = Eq(voltaje, solucion_para_intensidad[0]*r1)\n",
    "solucion_voltaje_R1 = solve(ley_ohm, voltaje)\n",
    "\n",
    "print(\"\\nPotencial V1 es:\")\n",
    "convert_to(solucion_voltaje_R1[0], [volts]).n(2)"
   ]
  },
  {
   "cell_type": "code",
   "execution_count": 39,
   "metadata": {
    "collapsed": true,
    "execution": {
     "iopub.execute_input": "2021-01-04T17:01:36.295Z",
     "iopub.status.busy": "2021-01-04T17:01:36.246Z",
     "iopub.status.idle": "2021-01-04T17:01:36.386Z",
     "shell.execute_reply": "2021-01-04T17:01:36.414Z"
    },
    "jupyter": {
     "outputs_hidden": false,
     "source_hidden": false
    },
    "nteract": {
     "transient": {
      "deleting": false
     }
    }
   },
   "outputs": [
    {
     "name": "stdout",
     "output_type": "stream",
     "text": [
      "\n",
      "Potencial V2 es:\n"
     ]
    },
    {
     "data": {
      "text/latex": [
       "$\\displaystyle 5.0 \\text{V}$"
      ],
      "text/plain": [
       "5.0*volt"
      ]
     },
     "execution_count": 39,
     "metadata": {},
     "output_type": "execute_result"
    }
   ],
   "source": [
    "voltaje = symbols('v')\n",
    "ley_ohm = Eq(voltaje, solucion_para_intensidad[0]*r2)\n",
    "solucion_voltaje_R2 = solve(ley_ohm, voltaje)\n",
    "\n",
    "print(\"\\nPotencial V2 es:\")\n",
    "convert_to(solucion_voltaje_R2[0], [volts]).n(2)"
   ]
  },
  {
   "cell_type": "code",
   "execution_count": 40,
   "metadata": {
    "collapsed": true,
    "execution": {
     "iopub.execute_input": "2021-01-04T17:01:38.555Z",
     "iopub.status.busy": "2021-01-04T17:01:38.523Z",
     "iopub.status.idle": "2021-01-04T17:01:38.645Z",
     "shell.execute_reply": "2021-01-04T17:01:38.674Z"
    },
    "jupyter": {
     "outputs_hidden": false,
     "source_hidden": false
    },
    "nteract": {
     "transient": {
      "deleting": false
     }
    }
   },
   "outputs": [
    {
     "name": "stdout",
     "output_type": "stream",
     "text": [
      "\n",
      "Potencial V3 es:\n"
     ]
    },
    {
     "data": {
      "text/latex": [
       "$\\displaystyle 2.5 \\text{V}$"
      ],
      "text/plain": [
       "2.5*volt"
      ]
     },
     "execution_count": 40,
     "metadata": {},
     "output_type": "execute_result"
    }
   ],
   "source": [
    "voltaje = symbols('v')\n",
    "ley_ohm = Eq(voltaje, solucion_para_intensidad[0]*r3)\n",
    "solucion_voltaje_R3 = solve(ley_ohm, voltaje)\n",
    "\n",
    "print(\"\\nPotencial V3 es:\")\n",
    "convert_to(solucion_voltaje_R3[0], [volts]).n(2)"
   ]
  },
  {
   "cell_type": "code",
   "execution_count": 41,
   "metadata": {
    "collapsed": true,
    "execution": {
     "iopub.execute_input": "2021-01-04T17:01:40.639Z",
     "iopub.status.busy": "2021-01-04T17:01:40.608Z",
     "iopub.status.idle": "2021-01-04T17:01:40.733Z",
     "shell.execute_reply": "2021-01-04T17:01:40.787Z"
    },
    "jupyter": {
     "outputs_hidden": false,
     "source_hidden": false
    },
    "nteract": {
     "transient": {
      "deleting": false
     }
    }
   },
   "outputs": [
    {
     "name": "stdout",
     "output_type": "stream",
     "text": [
      "\n",
      "Voltaje entre R1-R2 y tierra:\n"
     ]
    },
    {
     "data": {
      "text/latex": [
       "$\\displaystyle 7.5 \\text{V}$"
      ],
      "text/plain": [
       "7.5*volt"
      ]
     },
     "execution_count": 41,
     "metadata": {},
     "output_type": "execute_result"
    }
   ],
   "source": [
    "voltaje = symbols('v')\n",
    "ley_ohm = Eq(voltaje, solucion_para_intensidad[0]*(r2+r3))\n",
    "solucion_voltaje_R2_masa = solve(ley_ohm, voltaje)\n",
    "\n",
    "print(\"\\nVoltaje entre R1-R2 y tierra:\")\n",
    "convert_to(solucion_voltaje_R2_masa[0], [volts]).n(2)"
   ]
  },
  {
   "cell_type": "markdown",
   "metadata": {},
   "source": [
    "> **Pregunta: Demuestra que se cumple la Ley de Kirchhoff de la energía en un circuito, es decir, que la suma de la energía suministrada por las fuentes (pilas) es igual a la consumida por las resistencias. Realiza la operación con Sympy.**\n",
    "\n",
    "$$\n",
    "\\sum_i^N V_{\\text{fuentes}} = \\sum_j^M V_{\\text{consumido en resistencias}}\n",
    "$$\n",
    "\n",
    "Ten en cuenta que en este caso sólo hay una fuente.\n",
    "\n"
   ]
  },
  {
   "cell_type": "markdown",
   "metadata": {
    "nteract": {
     "transient": {
      "deleting": false
     }
    }
   },
   "source": [
    "$DEMOSTRACIÓN$\n",
    "\n",
    "Para demostrar que se cumple la Ley de Kirchhoff utilizaremos los resultados de los ejercicios anteriores:"
   ]
  },
  {
   "cell_type": "code",
   "execution_count": 42,
   "metadata": {
    "collapsed": true,
    "execution": {
     "iopub.execute_input": "2021-01-04T17:02:06.653Z",
     "iopub.status.busy": "2021-01-04T17:02:06.622Z",
     "iopub.status.idle": "2021-01-04T17:02:06.738Z",
     "shell.execute_reply": "2021-01-04T17:02:06.777Z"
    },
    "jupyter": {
     "outputs_hidden": false,
     "source_hidden": false
    },
    "nteract": {
     "transient": {
      "deleting": false
     }
    }
   },
   "outputs": [
    {
     "name": "stdout",
     "output_type": "stream",
     "text": [
      "Suma total de los voltajes de las resistencias:\n"
     ]
    },
    {
     "data": {
      "text/latex": [
       "$\\displaystyle 9.0 \\text{V}$"
      ],
      "text/plain": [
       "9.0*volt"
      ]
     },
     "execution_count": 42,
     "metadata": {},
     "output_type": "execute_result"
    }
   ],
   "source": [
    "suma_de_resistencias = solucion_voltaje_R1[0] + solucion_voltaje_R2[0] + solucion_voltaje_R3[0]\n",
    "\n",
    "\n",
    "print(\"Suma total de los voltajes de las resistencias:\")\n",
    "convert_to(suma_de_resistencias, [volts]).n(2)"
   ]
  },
  {
   "cell_type": "markdown",
   "metadata": {},
   "source": [
    "## Análisis `.op` de circuitos con resistencias en paralelo\n",
    "\n",
    "Vamos a complicar un poco el trabajo añadiendo elementos en paralelo.\n",
    "\n",
    " > **Pregunta: realiza los análisis `.op` de los siguientes circuitos.\n",
    " Para ello crea un netlist separado para cada uno donde queden correctamente descritos\n",
    " junto con la simulación (`.op`). Comenta los resultados que devuelve Ahkab (no imprimas los resultados de las simulaciones *sin más*).**\n",
    "\n",
    " ![](https://raw.githubusercontent.com/pammacdotnet/spicelab/master/resistencias%20en%20paralelo.svg?sanitize=true)\n",
    "\n",
    " Aquí tienes el análisis del primer circuito, para que sirva de ejemplo:"
   ]
  },
  {
   "cell_type": "markdown",
   "metadata": {
    "nteract": {
     "transient": {
      "deleting": false
     }
    }
   },
   "source": [
    "# Circuito 1\n",
    "\n",
    "![circuito1.jpg](attachment:circuito1.jpg)"
   ]
  },
  {
   "cell_type": "markdown",
   "metadata": {
    "nteract": {
     "transient": {
      "deleting": false
     }
    }
   },
   "source": [
    "Definimos el netlist del circuito 1"
   ]
  },
  {
   "cell_type": "code",
   "execution_count": 55,
   "metadata": {
    "execution": {
     "iopub.execute_input": "2021-01-04T17:32:43.035Z",
     "iopub.status.busy": "2021-01-04T17:32:42.968Z",
     "iopub.status.idle": "2021-01-04T17:32:43.186Z",
     "shell.execute_reply": "2021-01-04T17:32:43.268Z"
    }
   },
   "outputs": [
    {
     "name": "stdout",
     "output_type": "stream",
     "text": [
      "Overwriting resistencias en paralelo 1.cir\n"
     ]
    }
   ],
   "source": [
    "%%writefile \"resistencias en paralelo 1.cir\"\n",
    "* resistencias en paralelo\n",
    "vdd 0 1 vdc=12 type=vdc\n",
    "r1 1 2 1k\n",
    "r2 2 0 470\n",
    "r3 2 3 220\n",
    "r4 3 0 1.5k\n",
    ".op\n",
    ".end"
   ]
  },
  {
   "cell_type": "markdown",
   "metadata": {
    "nteract": {
     "transient": {
      "deleting": false
     }
    }
   },
   "source": [
    "Procesamos el circuito con Ahkab"
   ]
  },
  {
   "cell_type": "code",
   "execution_count": 56,
   "metadata": {
    "execution": {
     "iopub.execute_input": "2021-01-04T17:32:44.931Z",
     "iopub.status.busy": "2021-01-04T17:32:44.861Z",
     "iopub.status.idle": "2021-01-04T17:32:45.366Z",
     "shell.execute_reply": "2021-01-04T17:32:45.432Z"
    }
   },
   "outputs": [
    {
     "name": "stdout",
     "output_type": "stream",
     "text": [
      "Starting op analysis:\n",
      "Calculating guess: skipped. (linear circuit)\n",
      "Solving...  -\b\\\b done.\n",
      "Solving...  -\b\\\b done.\n",
      "Difference check within margins.\n",
      "(Voltage: er=0.001, ea=1e-06, Current: er=0.001, ea=1e-09)\n"
     ]
    }
   ],
   "source": [
    "#Ahkab procesa el circuito\n",
    "circuito_y_análisis = ahkab.netlist_parser.parse_circuit('resistencias en paralelo 1.cir')\n",
    "#En esta parte del comando, separamos los datos del netlist y por otro los analisis (simulaciones).\n",
    "circuito = circuito_y_análisis[0]       \n",
    "análisis_en_netlist = circuito_y_análisis[1]\n",
    "#La lista de analisis recoge los datos de la simulación del circuito\n",
    "lista_de_análisis = ahkab.netlist_parser.parse_analysis(circuito, análisis_en_netlist)\n",
    "#Ejecutamos la simulación del circuito con ahkab\n",
    "resultados = ahkab.run(circuito, lista_de_análisis)"
   ]
  },
  {
   "cell_type": "markdown",
   "metadata": {},
   "source": [
    "Imprimimos los resultados del análisis `.op`. "
   ]
  },
  {
   "cell_type": "code",
   "execution_count": 57,
   "metadata": {
    "execution": {
     "iopub.execute_input": "2021-01-04T17:32:47.946Z",
     "iopub.status.busy": "2021-01-04T17:32:47.869Z",
     "iopub.status.idle": "2021-01-04T17:32:48.100Z",
     "shell.execute_reply": "2021-01-04T17:32:48.162Z"
    }
   },
   "outputs": [
    {
     "name": "stdout",
     "output_type": "stream",
     "text": [
      "OP simulation results for '* resistencias en paralelo'(netlist resistencias en paralelo 1.cir).\n",
      "Run on 2021-01-04 17:32:44, data file None.\n",
      "Variable    Units           Value        Error    %\n",
      "----------  -------  ------------  -----------  ---\n",
      "V1          V        -12           1.2e-11        0\n",
      "V2          V         -3.23533     3.23532e-12    0\n",
      "V3          V         -2.8215      2.82151e-12    0\n",
      "I(VDD)      A         -0.00876467  0              0\n"
     ]
    }
   ],
   "source": [
    "print(resultados['op'])"
   ]
  },
  {
   "cell_type": "markdown",
   "metadata": {},
   "source": [
    "> **Pregunta: inserta dos *pilas virtuales* de 0 voltios en el resto de ramas del circuito 1 (`Vdummy1` en la rama donde está `R2` y `Vdummy2` en la rama donde está `R3` y `R4`) para que Ahkab nos imprima también la corriente en las mismas. Es muy parecido al tercer circuito que tienes que resolver, donde `V1`, `V2` y `V3` tienen cero voltios. Estas *pilas nulas* son, a todos los efectos, *simples cables*. Una vez que ya tienes las corrientes en todas las ramas, comprueba que se cumple la Ley de Kirchhoff para las corrientes:**\n",
    "\n",
    "$$\n",
    "I_{\\text{entrante}} = \\sum_i^{N} I_{\\text{salientes}}\n",
    "$$\n",
    "\n",
    "Repite lo mismo para los otros dos circuitos. Realiza además los cálculos con Sympy (recalcula los mismos voltajes que devuelve Ahkab a partir de la corriente que sí te devuelve la simulación) y cuidando de no olvidar las unidades. Recuerda que el objeto `resultados` alberga toda la información que necesitas de manera indexada. Ya han aparecido un ejemplo más arriba. Es decir: no *copies* los números *a mano*, trabaja de manera informáticamente elegante (usando la variable `resultados`). "
   ]
  },
  {
   "cell_type": "code",
   "execution_count": null,
   "metadata": {
    "collapsed": true,
    "jupyter": {
     "outputs_hidden": false,
     "source_hidden": false
    },
    "nteract": {
     "transient": {
      "deleting": false
     }
    }
   },
   "outputs": [],
   "source": [
    "Añadimos al circuito las 2 pilas virtuales de 0V:"
   ]
  },
  {
   "cell_type": "code",
   "execution_count": 95,
   "metadata": {
    "collapsed": true,
    "execution": {
     "iopub.execute_input": "2021-01-04T19:27:57.753Z",
     "iopub.status.busy": "2021-01-04T19:27:57.669Z",
     "iopub.status.idle": "2021-01-04T19:27:57.882Z",
     "shell.execute_reply": "2021-01-04T19:27:57.936Z"
    },
    "jupyter": {
     "outputs_hidden": false,
     "source_hidden": false
    },
    "nteract": {
     "transient": {
      "deleting": false
     }
    }
   },
   "outputs": [
    {
     "name": "stdout",
     "output_type": "stream",
     "text": [
      "Overwriting resistencias en paralelo 1_2.cir\n"
     ]
    }
   ],
   "source": [
    "%%writefile \"resistencias en paralelo 1_2.cir\"\n",
    "* resistencias en paralelo\n",
    "v1 0 1 vdc=12 type=vdc\n",
    "Vdummy1 4 0 vdc=0 type=vdc\n",
    "Vdummy2 5 0 vdc=0 type=vdc\n",
    "r1 1 2 1k\n",
    "r2 2 4 470\n",
    "r3 2 3 220\n",
    "r4 3 5 1.5k\n",
    ".op\n",
    ".end"
   ]
  },
  {
   "cell_type": "code",
   "execution_count": 96,
   "metadata": {
    "collapsed": true,
    "execution": {
     "iopub.execute_input": "2021-01-04T19:28:00.271Z",
     "iopub.status.busy": "2021-01-04T19:28:00.195Z",
     "iopub.status.idle": "2021-01-04T19:28:00.702Z",
     "shell.execute_reply": "2021-01-04T19:28:00.767Z"
    },
    "jupyter": {
     "outputs_hidden": false,
     "source_hidden": false
    },
    "nteract": {
     "transient": {
      "deleting": false
     }
    }
   },
   "outputs": [
    {
     "name": "stdout",
     "output_type": "stream",
     "text": [
      "Starting op analysis:\n",
      "Calculating guess: skipped. (linear circuit)\n",
      "Solving...  -\b\\\b done.\n",
      "Solving...  -\b\\\b done.\n",
      "Difference check within margins.\n",
      "(Voltage: er=0.001, ea=1e-06, Current: er=0.001, ea=1e-09)\n"
     ]
    }
   ],
   "source": [
    "circuito_y_análisis = ahkab.netlist_parser.parse_circuit('resistencias en paralelo 1_2.cir')\n",
    "circuito = circuito_y_análisis[0]       \n",
    "análisis_en_netlist = circuito_y_análisis[1]\n",
    "lista_de_análisis = ahkab.netlist_parser.parse_analysis(circuito, análisis_en_netlist)\n",
    "resultados = ahkab.run(circuito, lista_de_análisis)"
   ]
  },
  {
   "cell_type": "code",
   "execution_count": 97,
   "metadata": {
    "collapsed": true,
    "execution": {
     "iopub.execute_input": "2021-01-04T19:28:03.371Z",
     "iopub.status.busy": "2021-01-04T19:28:03.302Z",
     "iopub.status.idle": "2021-01-04T19:28:03.513Z",
     "shell.execute_reply": "2021-01-04T19:28:03.568Z"
    },
    "jupyter": {
     "outputs_hidden": false,
     "source_hidden": false
    },
    "nteract": {
     "transient": {
      "deleting": false
     }
    }
   },
   "outputs": [
    {
     "name": "stdout",
     "output_type": "stream",
     "text": [
      "OP simulation results for '* resistencias en paralelo'(netlist resistencias en paralelo 1_2.cir).\n",
      "Run on 2021-01-04 19:27:59, data file None.\n",
      "Variable    Units           Value        Error    %\n",
      "----------  -------  ------------  -----------  ---\n",
      "V1          V        -12           1.2e-11        0\n",
      "V4          V          0           8.67362e-19    0\n",
      "V5          V          0           0              0\n",
      "V2          V         -3.23533     3.23532e-12    0\n",
      "V3          V         -2.8215      2.82151e-12    0\n",
      "I(V1)       A         -0.00876467  0              0\n",
      "I(VDUMMY1)  A         -0.00688367  0              0\n",
      "I(VDUMMY2)  A         -0.001881    0              0\n"
     ]
    }
   ],
   "source": [
    "print(resultados['op'])"
   ]
  },
  {
   "cell_type": "markdown",
   "metadata": {
    "nteract": {
     "transient": {
      "deleting": false
     }
    }
   },
   "source": [
    "Vamos a comprobar que se cumple la Ley de Kirchhoff para las corrientes:\n",
    "\n",
    "$$\n",
    "I_{\\text{entrante}} = \\sum_i^{N} I_{\\text{salientes}}\n",
    "$$\n",
    "\n",
    "Como podemos ver, la intensidad total son: \n",
    " \n",
    "$$ \n",
    " I(V1) = -0.00876467A \n",
    "$$ \n",
    "  \n",
    "Si hacemos la suma de las dos pilas virtuales añadidas, tendría que darnos el valor de la instensidad total y por tanto se cumpliría la Ley de Kirchhoff."
   ]
  },
  {
   "cell_type": "code",
   "execution_count": 98,
   "metadata": {
    "collapsed": true,
    "execution": {
     "iopub.execute_input": "2021-01-04T19:28:07.432Z",
     "iopub.status.busy": "2021-01-04T19:28:07.369Z",
     "iopub.status.idle": "2021-01-04T19:28:07.711Z",
     "shell.execute_reply": "2021-01-04T19:28:07.765Z"
    },
    "jupyter": {
     "outputs_hidden": false,
     "source_hidden": false
    },
    "nteract": {
     "transient": {
      "deleting": false
     }
    }
   },
   "outputs": [
    {
     "name": "stdout",
     "output_type": "stream",
     "text": [
      "La suma total de ambas pilas virtuales es:\n"
     ]
    },
    {
     "data": {
      "text/latex": [
       "$\\displaystyle - 0.00876467 \\text{A}$"
      ],
      "text/plain": [
       "-0.00876467*ampere"
      ]
     },
     "execution_count": 98,
     "metadata": {},
     "output_type": "execute_result"
    }
   ],
   "source": [
    "intensidad_dummy1 = resultados['op'].results._dict['I(VDUMMY1)']*amperes\n",
    "\n",
    "intensidad_dummy2 = resultados['op'].results._dict['I(VDUMMY2)']*amperes\n",
    "\n",
    "print(\"La suma total de ambas pilas virtuales es:\")\n",
    "convert_to(intensidad_dummy1+intensidad_dummy2, [amperes]).n(6)\n"
   ]
  },
  {
   "cell_type": "markdown",
   "metadata": {
    "nteract": {
     "transient": {
      "deleting": false
     }
    }
   },
   "source": [
    "Vamos a comprobar con Sympy los resultados obtenidos por Ahkab de los voltajes en el nodo 2 y en el nodo 3.\n"
   ]
  },
  {
   "cell_type": "markdown",
   "metadata": {
    "nteract": {
     "transient": {
      "deleting": false
     }
    }
   },
   "source": [
    "El resultado del nodo 2 que nos devuelve Ahkab es:"
   ]
  },
  {
   "cell_type": "code",
   "execution_count": 99,
   "metadata": {
    "collapsed": true,
    "execution": {
     "iopub.execute_input": "2021-01-04T19:28:11.581Z",
     "iopub.status.busy": "2021-01-04T19:28:11.527Z",
     "iopub.status.idle": "2021-01-04T19:28:11.747Z",
     "shell.execute_reply": "2021-01-04T19:28:11.811Z"
    },
    "jupyter": {
     "outputs_hidden": false,
     "source_hidden": false
    },
    "nteract": {
     "transient": {
      "deleting": false
     }
    }
   },
   "outputs": [
    {
     "name": "stdout",
     "output_type": "stream",
     "text": [
      "Resultado:\n"
     ]
    },
    {
     "data": {
      "text/latex": [
       "$\\displaystyle 3.23532550693703 \\text{V}$"
      ],
      "text/plain": [
       "3.23532550693703*volt"
      ]
     },
     "execution_count": 99,
     "metadata": {},
     "output_type": "execute_result"
    }
   ],
   "source": [
    "print(\"Resultado:\")\n",
    "-resultados['op'].results._dict['V2']*volts"
   ]
  },
  {
   "cell_type": "code",
   "execution_count": null,
   "metadata": {
    "collapsed": true,
    "jupyter": {
     "outputs_hidden": false,
     "source_hidden": false
    },
    "nteract": {
     "transient": {
      "deleting": false
     }
    }
   },
   "outputs": [],
   "source": [
    "Como el resultado me lo devuelve en negativo, he decidido añadirle un signo - al resultado para que me imprima el resultado en número positivo."
   ]
  },
  {
   "cell_type": "markdown",
   "metadata": {
    "nteract": {
     "transient": {
      "deleting": false
     }
    }
   },
   "source": [
    "El resultado del nodo 2 comprobado por Sympy es:"
   ]
  },
  {
   "cell_type": "code",
   "execution_count": 101,
   "metadata": {
    "collapsed": true,
    "execution": {
     "iopub.execute_input": "2021-01-04T19:29:16.008Z",
     "iopub.status.busy": "2021-01-04T19:29:15.910Z",
     "iopub.status.idle": "2021-01-04T19:29:16.200Z",
     "shell.execute_reply": "2021-01-04T19:29:16.424Z"
    },
    "jupyter": {
     "outputs_hidden": false,
     "source_hidden": false
    },
    "nteract": {
     "transient": {
      "deleting": false
     }
    }
   },
   "outputs": [
    {
     "name": "stdout",
     "output_type": "stream",
     "text": [
      "Resultado:\n"
     ]
    },
    {
     "data": {
      "text/latex": [
       "$\\displaystyle 3.2353 \\text{V}$"
      ],
      "text/plain": [
       "3.2353*volt"
      ]
     },
     "execution_count": 101,
     "metadata": {},
     "output_type": "execute_result"
    }
   ],
   "source": [
    "from sympy.physics.units import kilo\n",
    "from sympy.physics.units import ohm\n",
    "from sympy import solve, symbols, Eq\n",
    "\n",
    "v1 = 12*volts \n",
    "r1 = 1*kilo*ohms\n",
    "r2 = 470*ohms\n",
    "r3 = 220*ohms\n",
    "r4 = 1.5*kilo*ohms\n",
    "\n",
    "inversa_malla1 = 1/r2\n",
    "inversa_malla2 = 1/(r3+r4)\n",
    "equiv = symbols('equiv')\n",
    "equiv = solve(1/equiv-inv_malla1-inv_malla2, equiv)\n",
    "\n",
    "v = symbols('v')\n",
    "intensidad = -resultados['op'].results._dict['I(V1)']*amperes \n",
    "\n",
    "ley_ohm = Eq(v, intensidad*equiv[0])\n",
    "V2 = solve(ley_ohm, v)\n",
    "\n",
    "print(\"Resultado:\")\n",
    "convert_to(V2[0], [volts]).n(5)"
   ]
  },
  {
   "cell_type": "markdown",
   "metadata": {
    "nteract": {
     "transient": {
      "deleting": false
     }
    }
   },
   "source": [
    "El resultado del nodo 3 que nos devuelve Ahkab es:"
   ]
  },
  {
   "cell_type": "code",
   "execution_count": 102,
   "metadata": {
    "collapsed": true,
    "execution": {
     "iopub.execute_input": "2021-01-04T19:29:23.635Z",
     "iopub.status.busy": "2021-01-04T19:29:23.519Z",
     "iopub.status.idle": "2021-01-04T19:29:23.836Z",
     "shell.execute_reply": "2021-01-04T19:29:23.909Z"
    },
    "jupyter": {
     "outputs_hidden": false,
     "source_hidden": false
    },
    "nteract": {
     "transient": {
      "deleting": false
     }
    }
   },
   "outputs": [
    {
     "name": "stdout",
     "output_type": "stream",
     "text": [
      "Resultado:\n"
     ]
    },
    {
     "data": {
      "text/latex": [
       "$\\displaystyle 2.82150480256136 \\text{V}$"
      ],
      "text/plain": [
       "2.82150480256136*volt"
      ]
     },
     "execution_count": 102,
     "metadata": {},
     "output_type": "execute_result"
    }
   ],
   "source": [
    "print(\"Resultado:\")\n",
    "-resultados['op'].results._dict['V3']*volts"
   ]
  },
  {
   "cell_type": "markdown",
   "metadata": {
    "nteract": {
     "transient": {
      "deleting": false
     }
    }
   },
   "source": [
    "El resultado del nodo 3 comprobado por Sympy es:"
   ]
  },
  {
   "cell_type": "code",
   "execution_count": 103,
   "metadata": {
    "collapsed": true,
    "execution": {
     "iopub.execute_input": "2021-01-04T19:29:25.972Z",
     "iopub.status.busy": "2021-01-04T19:29:25.888Z",
     "iopub.status.idle": "2021-01-04T19:29:26.172Z",
     "shell.execute_reply": "2021-01-04T19:29:26.248Z"
    },
    "jupyter": {
     "outputs_hidden": false,
     "source_hidden": false
    },
    "nteract": {
     "transient": {
      "deleting": false
     }
    }
   },
   "outputs": [
    {
     "name": "stdout",
     "output_type": "stream",
     "text": [
      "Resultado:\n"
     ]
    },
    {
     "data": {
      "text/latex": [
       "$\\displaystyle 2.8215 \\text{V}$"
      ],
      "text/plain": [
       "2.8215*volt"
      ]
     },
     "execution_count": 103,
     "metadata": {},
     "output_type": "execute_result"
    }
   ],
   "source": [
    "v = symbols('v')\n",
    "ley_ohm = Eq(-v, intensidad_dummy2*r4)\n",
    "voltaje_V3 = solve(ley_ohm, v)\n",
    "\n",
    "print(\"Resultado:\")\n",
    "convert_to(voltaje_V3[0], [volts]).n(5)"
   ]
  },
  {
   "cell_type": "markdown",
   "metadata": {
    "nteract": {
     "transient": {
      "deleting": false
     }
    }
   },
   "source": [
    "# Circuito 2\n",
    "\n",
    "![Circuito2.jpg](attachment:Circuito2.jpg)"
   ]
  },
  {
   "cell_type": "code",
   "execution_count": 116,
   "metadata": {
    "collapsed": true,
    "execution": {
     "iopub.execute_input": "2021-01-04T19:38:03.638Z",
     "iopub.status.busy": "2021-01-04T19:38:03.569Z",
     "iopub.status.idle": "2021-01-04T19:38:03.805Z",
     "shell.execute_reply": "2021-01-04T19:38:03.874Z"
    },
    "jupyter": {
     "outputs_hidden": false,
     "source_hidden": false
    },
    "nteract": {
     "transient": {
      "deleting": false
     }
    }
   },
   "outputs": [
    {
     "name": "stdout",
     "output_type": "stream",
     "text": [
      "Overwriting resistencias en paralelo 2.cir\n"
     ]
    }
   ],
   "source": [
    "%%writefile \"resistencias en paralelo 2.cir\"\n",
    "* resistencias en paralelo\n",
    "v1 1 0 vdc=9 type=vdc\n",
    "v2 5 0 vdc=1.5 type=vdc\n",
    "r1 1 2 47\n",
    "r2 2 3 220\n",
    "r3 2 5 180\n",
    "r4 3 4 1k\n",
    "r5 4 0 560\n",
    ".op\n",
    ".end"
   ]
  },
  {
   "cell_type": "code",
   "execution_count": 117,
   "metadata": {
    "collapsed": true,
    "execution": {
     "iopub.execute_input": "2021-01-04T19:38:04.917Z",
     "iopub.status.busy": "2021-01-04T19:38:04.859Z",
     "iopub.status.idle": "2021-01-04T19:38:05.385Z",
     "shell.execute_reply": "2021-01-04T19:38:05.456Z"
    },
    "jupyter": {
     "outputs_hidden": false,
     "source_hidden": false
    },
    "nteract": {
     "transient": {
      "deleting": false
     }
    }
   },
   "outputs": [
    {
     "name": "stdout",
     "output_type": "stream",
     "text": [
      "Starting op analysis:\n",
      "Calculating guess: skipped. (linear circuit)\n",
      "Solving...  -\b\\\b done.\n",
      "Solving...  -\b\\\b done.\n",
      "Difference check within margins.\n",
      "(Voltage: er=0.001, ea=1e-06, Current: er=0.001, ea=1e-09)\n"
     ]
    }
   ],
   "source": [
    "circuito_y_análisis = ahkab.netlist_parser.parse_circuit('resistencias en paralelo 2.cir')\n",
    "circuito = circuito_y_análisis[0]       \n",
    "análisis_en_netlist = circuito_y_análisis[1]\n",
    "lista_de_análisis = ahkab.netlist_parser.parse_analysis(circuito, análisis_en_netlist)\n",
    "resultados = ahkab.run(circuito, lista_de_análisis)"
   ]
  },
  {
   "cell_type": "code",
   "execution_count": 118,
   "metadata": {
    "collapsed": true,
    "execution": {
     "iopub.execute_input": "2021-01-04T19:38:06.651Z",
     "iopub.status.busy": "2021-01-04T19:38:06.591Z",
     "iopub.status.idle": "2021-01-04T19:38:06.785Z",
     "shell.execute_reply": "2021-01-04T19:38:06.840Z"
    },
    "jupyter": {
     "outputs_hidden": false,
     "source_hidden": false
    },
    "nteract": {
     "transient": {
      "deleting": false
     }
    }
   },
   "outputs": [
    {
     "name": "stdout",
     "output_type": "stream",
     "text": [
      "OP simulation results for '* resistencias en paralelo'(netlist resistencias en paralelo 2.cir).\n",
      "Run on 2021-01-04 19:38:04, data file None.\n",
      "Variable    Units         Value         Error    %\n",
      "----------  -------  ----------  ------------  ---\n",
      "V1          V         9          -8.99994e-12    0\n",
      "V5          V         1.5        -1.50001e-12    0\n",
      "V2          V         7.29441    -7.29442e-12    0\n",
      "V3          V         6.39285    -6.39285e-12    0\n",
      "V4          V         2.29487    -2.29487e-12    0\n",
      "I(V1)       A        -0.0362891   0              0\n",
      "I(V2)       A         0.0321912   0              0\n"
     ]
    }
   ],
   "source": [
    "print(resultados['op'])"
   ]
  },
  {
   "cell_type": "markdown",
   "metadata": {
    "nteract": {
     "transient": {
      "deleting": false
     }
    }
   },
   "source": [
    "Dado que en este circuito ya tenemos una pila en 2 ramas, solo tendremos que añadir 1 pila virtual a la tercera rama del circuito"
   ]
  },
  {
   "cell_type": "code",
   "execution_count": 119,
   "metadata": {
    "collapsed": true,
    "execution": {
     "iopub.execute_input": "2021-01-04T20:04:51.159Z",
     "iopub.status.busy": "2021-01-04T20:04:51.076Z",
     "iopub.status.idle": "2021-01-04T20:04:51.297Z",
     "shell.execute_reply": "2021-01-04T20:04:51.378Z"
    },
    "jupyter": {
     "outputs_hidden": false,
     "source_hidden": false
    },
    "nteract": {
     "transient": {
      "deleting": false
     }
    }
   },
   "outputs": [
    {
     "name": "stdout",
     "output_type": "stream",
     "text": [
      "Writing resistencias en paralelo 2_2.cir\n"
     ]
    }
   ],
   "source": [
    "%%writefile \"resistencias en paralelo 2_2.cir\"\n",
    "* resistencias en paralelo\n",
    "v1 1 0 vdc=9 type=vdc\n",
    "v2 5 0 vdc=1.5 type=vdc\n",
    "vdummy 6 0 vdc=0 type=vdc\n",
    "r1 1 2 47\n",
    "r2 2 3 220\n",
    "r3 2 5 180\n",
    "r4 3 4 1k\n",
    "r5 4 6 560\n",
    ".op\n",
    ".end"
   ]
  },
  {
   "cell_type": "code",
   "execution_count": 120,
   "metadata": {
    "collapsed": true,
    "execution": {
     "iopub.execute_input": "2021-01-04T20:04:52.411Z",
     "iopub.status.busy": "2021-01-04T20:04:52.347Z",
     "iopub.status.idle": "2021-01-04T20:04:52.832Z",
     "shell.execute_reply": "2021-01-04T20:04:52.910Z"
    },
    "jupyter": {
     "outputs_hidden": false,
     "source_hidden": false
    },
    "nteract": {
     "transient": {
      "deleting": false
     }
    }
   },
   "outputs": [
    {
     "name": "stdout",
     "output_type": "stream",
     "text": [
      "Starting op analysis:\n",
      "Calculating guess: skipped. (linear circuit)\n",
      "Solving...  -\b\\\b done.\n",
      "Solving...  -\b\\\b done.\n",
      "Difference check within margins.\n",
      "(Voltage: er=0.001, ea=1e-06, Current: er=0.001, ea=1e-09)\n"
     ]
    }
   ],
   "source": [
    "circuito_y_análisis = ahkab.netlist_parser.parse_circuit('resistencias en paralelo 2_2.cir')\n",
    "circuito = circuito_y_análisis[0]       \n",
    "análisis_en_netlist = circuito_y_análisis[1]\n",
    "lista_de_análisis = ahkab.netlist_parser.parse_analysis(circuito, análisis_en_netlist)\n",
    "resultados = ahkab.run(circuito, lista_de_análisis)"
   ]
  },
  {
   "cell_type": "code",
   "execution_count": 121,
   "metadata": {
    "collapsed": true,
    "execution": {
     "iopub.execute_input": "2021-01-04T20:05:04.406Z",
     "iopub.status.busy": "2021-01-04T20:05:04.337Z",
     "iopub.status.idle": "2021-01-04T20:05:04.538Z",
     "shell.execute_reply": "2021-01-04T20:05:04.613Z"
    },
    "jupyter": {
     "outputs_hidden": false,
     "source_hidden": false
    },
    "nteract": {
     "transient": {
      "deleting": false
     }
    }
   },
   "outputs": [
    {
     "name": "stdout",
     "output_type": "stream",
     "text": [
      "OP simulation results for '* resistencias en paralelo'(netlist resistencias en paralelo 2_2.cir).\n",
      "Run on 2021-01-04 20:04:52, data file None.\n",
      "Variable    Units          Value         Error    %\n",
      "----------  -------  -----------  ------------  ---\n",
      "V1          V         9           -8.99997e-12    0\n",
      "V5          V         1.5         -1.5e-12        0\n",
      "V6          V         0           -8.67362e-19    0\n",
      "V2          V         7.29441     -7.29442e-12    0\n",
      "V3          V         6.39285     -6.39285e-12    0\n",
      "V4          V         2.29487     -2.29487e-12    0\n",
      "I(V1)       A        -0.0362891    0              0\n",
      "I(V2)       A         0.0321912    0              0\n",
      "I(VDUMMY)   A         0.00409798   0              0\n"
     ]
    }
   ],
   "source": [
    "print(resultados['op'])"
   ]
  },
  {
   "cell_type": "markdown",
   "metadata": {
    "nteract": {
     "transient": {
      "deleting": false
     }
    }
   },
   "source": [
    "Volvemos a comprobar para el circuito 2 que se cumple la Ley de Kirchhof para la intensidad de corriente.\n",
    "\n",
    "Lo primero que haremos será pedirle al programa que nos imprima por pantalla la intensidad total del circuito:"
   ]
  },
  {
   "cell_type": "code",
   "execution_count": 123,
   "metadata": {
    "collapsed": true,
    "execution": {
     "iopub.execute_input": "2021-01-04T20:09:38.059Z",
     "iopub.status.busy": "2021-01-04T20:09:38.002Z",
     "iopub.status.idle": "2021-01-04T20:09:38.237Z",
     "shell.execute_reply": "2021-01-04T20:09:38.294Z"
    },
    "jupyter": {
     "outputs_hidden": false,
     "source_hidden": false
    },
    "nteract": {
     "transient": {
      "deleting": false
     }
    }
   },
   "outputs": [
    {
     "name": "stdout",
     "output_type": "stream",
     "text": [
      "Intensidad total:\n"
     ]
    },
    {
     "data": {
      "text/latex": [
       "$\\displaystyle 0.0362891 \\text{A}$"
      ],
      "text/plain": [
       "0.0362891*ampere"
      ]
     },
     "execution_count": 123,
     "metadata": {},
     "output_type": "execute_result"
    }
   ],
   "source": [
    "intensidad_total = -resultados['op'].results._dict['I(V1)']*amperes\n",
    "\n",
    "print(\"Intensidad total:\")\n",
    "convert_to(intensidad_total, [amperes]).n(6)"
   ]
  },
  {
   "cell_type": "markdown",
   "metadata": {
    "nteract": {
     "transient": {
      "deleting": false
     }
    }
   },
   "source": [
    "La suma de V2 y Vdummy deben darnos la intensidad total del circuito. Para ello vamos a comprobarlo"
   ]
  },
  {
   "cell_type": "code",
   "execution_count": 124,
   "metadata": {
    "collapsed": true,
    "execution": {
     "iopub.execute_input": "2021-01-04T20:11:46.895Z",
     "iopub.status.busy": "2021-01-04T20:11:46.836Z",
     "iopub.status.idle": "2021-01-04T20:11:47.058Z",
     "shell.execute_reply": "2021-01-04T20:11:47.123Z"
    },
    "jupyter": {
     "outputs_hidden": false,
     "source_hidden": false
    },
    "nteract": {
     "transient": {
      "deleting": false
     }
    }
   },
   "outputs": [
    {
     "data": {
      "text/latex": [
       "$\\displaystyle 0.0362891 \\text{A}$"
      ],
      "text/plain": [
       "0.0362891*ampere"
      ]
     },
     "execution_count": 124,
     "metadata": {},
     "output_type": "execute_result"
    }
   ],
   "source": [
    "intrama1 = resultados['op'].results._dict['I(V2)']*amperes\n",
    "intrama2 = resultados['op'].results._dict['I(VDUMMY)']*amperes\n",
    "convert_to(intrama1+intrama2, [amperes]).n(6)"
   ]
  },
  {
   "cell_type": "markdown",
   "metadata": {
    "nteract": {
     "transient": {
      "deleting": false
     }
    }
   },
   "source": [
    "Como hemos comprobado, podemos afirmar que se cumple la Ley de Kirchhoff."
   ]
  },
  {
   "cell_type": "markdown",
   "metadata": {
    "nteract": {
     "transient": {
      "deleting": false
     }
    }
   },
   "source": [
    "Comprobamos con Sympy los resultados obtenidos por Ahkab de V2."
   ]
  },
  {
   "cell_type": "code",
   "execution_count": 126,
   "metadata": {
    "collapsed": true,
    "execution": {
     "iopub.execute_input": "2021-01-04T20:22:34.575Z",
     "iopub.status.busy": "2021-01-04T20:22:34.500Z",
     "iopub.status.idle": "2021-01-04T20:22:34.794Z",
     "shell.execute_reply": "2021-01-04T20:22:34.861Z"
    },
    "jupyter": {
     "outputs_hidden": false,
     "source_hidden": false
    },
    "nteract": {
     "transient": {
      "deleting": false
     }
    }
   },
   "outputs": [
    {
     "name": "stdout",
     "output_type": "stream",
     "text": [
      "Voltaje en V2\n"
     ]
    },
    {
     "data": {
      "text/latex": [
       "$\\displaystyle 7.29440996800155 \\text{V}$"
      ],
      "text/plain": [
       "7.29440996800155*volt"
      ]
     },
     "execution_count": 126,
     "metadata": {},
     "output_type": "execute_result"
    }
   ],
   "source": [
    "#Según Ahkab esta es la diferencia de potencial en V2\n",
    "\n",
    "print(\"Voltaje en V2\")\n",
    "resultados['op'].results._dict['V2']*volts\n"
   ]
  },
  {
   "cell_type": "markdown",
   "metadata": {
    "nteract": {
     "transient": {
      "deleting": false
     }
    }
   },
   "source": [
    "Comprobamos el resultado en Sympy"
   ]
  },
  {
   "cell_type": "code",
   "execution_count": 137,
   "metadata": {
    "collapsed": true,
    "execution": {
     "iopub.execute_input": "2021-01-04T21:26:46.604Z",
     "iopub.status.busy": "2021-01-04T21:26:46.522Z",
     "iopub.status.idle": "2021-01-04T21:26:47.089Z",
     "shell.execute_reply": "2021-01-04T21:26:47.204Z"
    },
    "jupyter": {
     "outputs_hidden": false,
     "source_hidden": false
    },
    "nteract": {
     "transient": {
      "deleting": false
     }
    }
   },
   "outputs": [
    {
     "name": "stdout",
     "output_type": "stream",
     "text": [
      "Voltaje en V2\n"
     ]
    },
    {
     "data": {
      "text/latex": [
       "$\\displaystyle 7.2944 \\text{V}$"
      ],
      "text/plain": [
       "7.2944*volt"
      ]
     },
     "execution_count": 137,
     "metadata": {},
     "output_type": "execute_result"
    }
   ],
   "source": [
    "v1 = 9*volts\n",
    "v2 = 1.5*volts\n",
    "r1 = 47*ohms\n",
    "r2 = 220*ohms\n",
    "r3 = 180*ohms\n",
    "r4 = 1*kilo*ohms\n",
    "r5 = 560*ohms\n",
    "\n",
    "v = symbols('v')\n",
    "ley_ohm = Eq(v, intensidad_total*r1)\n",
    "#En este caso para calcular el voltaje en el segundo nodo lo que haremos será hallar el voltaje de R1. \n",
    "VR1 = solve(ley_ohm, v)\n",
    "#Y una vez tengamos VR1 podremos hallar el voltaje de V2, ya que restaremos a V1 el VR1\n",
    "voltV2 = v1-VR1[0]\n",
    "\n",
    "print(\"Voltaje en V2\")\n",
    "convert_to(voltV2, [volts]).n(5)"
   ]
  },
  {
   "cell_type": "markdown",
   "metadata": {
    "nteract": {
     "transient": {
      "deleting": false
     }
    }
   },
   "source": [
    "Comprobamos con Sympy los resultados obtenidos por Ahkab de V3."
   ]
  },
  {
   "cell_type": "code",
   "execution_count": 130,
   "metadata": {
    "collapsed": true,
    "execution": {
     "iopub.execute_input": "2021-01-04T20:31:16.025Z",
     "iopub.status.busy": "2021-01-04T20:31:15.983Z",
     "iopub.status.idle": "2021-01-04T20:31:16.137Z",
     "shell.execute_reply": "2021-01-04T20:31:16.178Z"
    },
    "jupyter": {
     "outputs_hidden": false,
     "source_hidden": false
    },
    "nteract": {
     "transient": {
      "deleting": false
     }
    }
   },
   "outputs": [
    {
     "name": "stdout",
     "output_type": "stream",
     "text": [
      "Voltaje en V3\n"
     ]
    },
    {
     "data": {
      "text/latex": [
       "$\\displaystyle 6.39285367982158 \\text{V}$"
      ],
      "text/plain": [
       "6.39285367982158*volt"
      ]
     },
     "execution_count": 130,
     "metadata": {},
     "output_type": "execute_result"
    }
   ],
   "source": [
    "#Según Ahkab esta es la diferencia de potencial en V3\n",
    "\n",
    "print(\"Voltaje en V3\")\n",
    "resultados['op'].results._dict['V3']*volts"
   ]
  },
  {
   "cell_type": "code",
   "execution_count": null,
   "metadata": {
    "collapsed": true,
    "jupyter": {
     "outputs_hidden": false,
     "source_hidden": false
    },
    "nteract": {
     "transient": {
      "deleting": false
     }
    }
   },
   "outputs": [],
   "source": [
    "Comprobamos el resultado en Sympy"
   ]
  },
  {
   "cell_type": "code",
   "execution_count": 134,
   "metadata": {
    "collapsed": true,
    "execution": {
     "iopub.execute_input": "2021-01-04T20:36:35.019Z",
     "iopub.status.busy": "2021-01-04T20:36:34.953Z",
     "iopub.status.idle": "2021-01-04T20:36:35.218Z",
     "shell.execute_reply": "2021-01-04T20:36:35.367Z"
    },
    "jupyter": {
     "outputs_hidden": false,
     "source_hidden": false
    },
    "nteract": {
     "transient": {
      "deleting": false
     }
    }
   },
   "outputs": [
    {
     "name": "stdout",
     "output_type": "stream",
     "text": [
      "Voltaje en V3\n"
     ]
    },
    {
     "data": {
      "text/latex": [
       "$\\displaystyle 6.3929 \\text{V}$"
      ],
      "text/plain": [
       "6.3929*volt"
      ]
     },
     "execution_count": 134,
     "metadata": {},
     "output_type": "execute_result"
    }
   ],
   "source": [
    "v = symbols('v')\n",
    "ley_ohm = Eq(v, intrama2*(r4+r5))\n",
    "voltajeV3 = solve(ley_ohm, v)\n",
    "\n",
    "print(\"Voltaje en V3\")\n",
    "convert_to(voltajeV3[0], [volts]).n(5)"
   ]
  },
  {
   "cell_type": "markdown",
   "metadata": {
    "nteract": {
     "transient": {
      "deleting": false
     }
    }
   },
   "source": [
    "Comprobamos con Sympy los resultados obtenidos por Ahkab de V4."
   ]
  },
  {
   "cell_type": "code",
   "execution_count": 142,
   "metadata": {
    "collapsed": true,
    "execution": {
     "iopub.execute_input": "2021-01-04T21:32:08.577Z",
     "iopub.status.busy": "2021-01-04T21:32:08.477Z",
     "iopub.status.idle": "2021-01-04T21:32:08.829Z",
     "shell.execute_reply": "2021-01-04T21:32:08.906Z"
    },
    "jupyter": {
     "outputs_hidden": false,
     "source_hidden": false
    },
    "nteract": {
     "transient": {
      "deleting": false
     }
    }
   },
   "outputs": [
    {
     "name": "stdout",
     "output_type": "stream",
     "text": [
      "Voltaje en V4\n"
     ]
    },
    {
     "data": {
      "text/latex": [
       "$\\displaystyle 2.29487055173082 \\text{V}$"
      ],
      "text/plain": [
       "2.29487055173082*volt"
      ]
     },
     "execution_count": 142,
     "metadata": {},
     "output_type": "execute_result"
    }
   ],
   "source": [
    "#Según Ahkab esta es la diferencia de potencial en V4\n",
    "\n",
    "print(\"Voltaje en V4\")\n",
    "resultados['op'].results._dict['V4']*volts"
   ]
  },
  {
   "cell_type": "code",
   "execution_count": null,
   "metadata": {
    "collapsed": true,
    "jupyter": {
     "outputs_hidden": false,
     "source_hidden": false
    },
    "nteract": {
     "transient": {
      "deleting": false
     }
    }
   },
   "outputs": [],
   "source": [
    "Comprobamos el resultado en Sympy"
   ]
  },
  {
   "cell_type": "code",
   "execution_count": 143,
   "metadata": {
    "collapsed": true,
    "execution": {
     "iopub.execute_input": "2021-01-04T21:32:10.841Z",
     "iopub.status.busy": "2021-01-04T21:32:10.774Z",
     "iopub.status.idle": "2021-01-04T21:32:11.070Z",
     "shell.execute_reply": "2021-01-04T21:32:11.142Z"
    },
    "jupyter": {
     "outputs_hidden": false,
     "source_hidden": false
    },
    "nteract": {
     "transient": {
      "deleting": false
     }
    }
   },
   "outputs": [
    {
     "name": "stdout",
     "output_type": "stream",
     "text": [
      "Voltaje en V4\n"
     ]
    },
    {
     "data": {
      "text/latex": [
       "$\\displaystyle 2.2949 \\text{V}$"
      ],
      "text/plain": [
       "2.2949*volt"
      ]
     },
     "execution_count": 143,
     "metadata": {},
     "output_type": "execute_result"
    }
   ],
   "source": [
    "v = symbols('v')\n",
    "ley_ohm = Eq(v, intrama2*r5)\n",
    "voltV4 = solve(ley_ohm, v)\n",
    "\n",
    "print(\"Voltaje en V4\")\n",
    "convert_to(voltV4[0], [volts]).n(5)"
   ]
  },
  {
   "cell_type": "code",
   "execution_count": null,
   "metadata": {
    "collapsed": true,
    "jupyter": {
     "outputs_hidden": false,
     "source_hidden": false
    },
    "nteract": {
     "transient": {
      "deleting": false
     }
    }
   },
   "outputs": [],
   "source": [
    "Comprobamos con Sympy los resultados obtenidos por Ahkab de V5."
   ]
  },
  {
   "cell_type": "code",
   "execution_count": 141,
   "metadata": {
    "collapsed": true,
    "execution": {
     "iopub.execute_input": "2021-01-04T21:28:22.426Z",
     "iopub.status.busy": "2021-01-04T21:28:22.330Z",
     "iopub.status.idle": "2021-01-04T21:28:22.629Z",
     "shell.execute_reply": "2021-01-04T21:28:22.701Z"
    },
    "jupyter": {
     "outputs_hidden": false,
     "source_hidden": false
    },
    "nteract": {
     "transient": {
      "deleting": false
     }
    }
   },
   "outputs": [
    {
     "name": "stdout",
     "output_type": "stream",
     "text": [
      "Voltaje en V5\n"
     ]
    },
    {
     "data": {
      "text/latex": [
       "$\\displaystyle 1.5 \\text{V}$"
      ],
      "text/plain": [
       "1.5*volt"
      ]
     },
     "execution_count": 141,
     "metadata": {},
     "output_type": "execute_result"
    }
   ],
   "source": [
    "#Según Ahkab esta es la diferencia de potencial en V5.\n",
    "\n",
    "print(\"Voltaje en V5\")\n",
    "resultados['op'].results._dict['V5']*volts"
   ]
  },
  {
   "cell_type": "code",
   "execution_count": null,
   "metadata": {
    "collapsed": true,
    "jupyter": {
     "outputs_hidden": false,
     "source_hidden": false
    },
    "nteract": {
     "transient": {
      "deleting": false
     }
    }
   },
   "outputs": [],
   "source": [
    "Comprobamos el resultado en Sympy.\n",
    "\n",
    "En este caso podemos observar que el voltaje de V5 es igual al de la pila de V2, por tanto:"
   ]
  },
  {
   "cell_type": "code",
   "execution_count": 145,
   "metadata": {
    "collapsed": true,
    "execution": {
     "iopub.execute_input": "2021-01-04T21:33:34.238Z",
     "iopub.status.busy": "2021-01-04T21:33:34.159Z",
     "iopub.status.idle": "2021-01-04T21:33:34.457Z",
     "shell.execute_reply": "2021-01-04T21:33:34.539Z"
    },
    "jupyter": {
     "outputs_hidden": false,
     "source_hidden": false
    },
    "nteract": {
     "transient": {
      "deleting": false
     }
    }
   },
   "outputs": [
    {
     "name": "stdout",
     "output_type": "stream",
     "text": [
      "Voltaje en V5\n"
     ]
    },
    {
     "data": {
      "text/latex": [
       "$\\displaystyle 1.5 \\text{V}$"
      ],
      "text/plain": [
       "1.5*volt"
      ]
     },
     "execution_count": 145,
     "metadata": {},
     "output_type": "execute_result"
    }
   ],
   "source": [
    "voltV5 = v2\n",
    "\n",
    "print(\"Voltaje en V5\")\n",
    "convert_to(voltV5, [volts]).n(5)"
   ]
  },
  {
   "attachments": {
    "circuito3.jpg": {
     "image/jpeg": "[encoded data removed]"
    }
   },
   "cell_type": "markdown",
   "metadata": {
    "nteract": {
     "transient": {
      "deleting": false
     }
    }
   },
   "source": [
    "# Circuito 3\n",
    "\n",
    "![circuito3.jpg](attachment:circuito3.jpg)"
   ]
  },
  {
   "cell_type": "markdown",
   "metadata": {},
   "source": [
    " # Circuitos en DC que evolucionan con el tiempo"
   ]
  },
  {
   "cell_type": "markdown",
   "metadata": {},
   "source": [
    " ## Carga de un condensador\n",
    " Vamos a ver qué le pasa a un circuito de corriente continua cuando tiene un condensador\n",
    " en serie.\n",
    "\n",
    " ![](https://raw.githubusercontent.com/pammacdotnet/spicelab/master/condensador%20en%20continua.svg?sanitize=true)\n",
    "\n",
    " Al igual que antes, primero guardamos el circuito en un netlist externo:"
   ]
  },
  {
   "cell_type": "code",
   "execution_count": null,
   "metadata": {},
   "outputs": [],
   "source": [
    "%%writefile \"condensador en continua.ckt\"\n",
    "* Carga condensador\n",
    "v1 0 1 type=vdc vdc=6\n",
    "r1 1 2 1k\n",
    "c1 2 0 1m ic=0\n",
    ".op\n",
    ".tran tstep=0.1 tstop=8 uic=0\n",
    ".end"
   ]
  },
  {
   "cell_type": "markdown",
   "metadata": {},
   "source": [
    "> **Pregunta:** ¿qué significa el parámetro `ic=0`? ¿qué perseguimos con un análisis de tipo `.tran`?\n",
    "\n",
    "Leamos el circuito:"
   ]
  },
  {
   "cell_type": "code",
   "execution_count": null,
   "metadata": {},
   "outputs": [],
   "source": [
    "circuito_y_análisis = ahkab.netlist_parser.parse_circuit(\"condensador en continua.ckt\")"
   ]
  },
  {
   "cell_type": "markdown",
   "metadata": {},
   "source": [
    " Separamos el netlist de los análisis y asignamos un fichero de almacenamiento de datos (`outfile`):"
   ]
  },
  {
   "cell_type": "code",
   "execution_count": null,
   "metadata": {},
   "outputs": [],
   "source": [
    "circuito = circuito_y_análisis[0]\n",
    "análisis_en_netlist = circuito_y_análisis[1]\n",
    "lista_de_análisis = ahkab.netlist_parser.parse_analysis(circuito, análisis_en_netlist)\n",
    "lista_de_análisis[1]['outfile'] = \"simulación tran.tsv\""
   ]
  },
  {
   "cell_type": "markdown",
   "metadata": {},
   "source": [
    " Ejecutamos la simulación:"
   ]
  },
  {
   "cell_type": "code",
   "execution_count": null,
   "metadata": {},
   "outputs": [],
   "source": [
    "resultados = ahkab.run(circuito, lista_de_análisis)\n",
    "print(resultados['op'])\n",
    "#print(resultados['tran'].keys())"
   ]
  },
  {
   "cell_type": "markdown",
   "metadata": {},
   "source": [
    " Dibujamos la gráfica de carga del condensador con el tiempo, centrándonos en la intensidad que circula por la pila. "
   ]
  },
  {
   "cell_type": "code",
   "execution_count": null,
   "metadata": {
    "execution": {
     "iopub.execute_input": "2020-12-29T10:21:09.534Z",
     "iopub.status.busy": "2020-12-29T10:21:09.461Z",
     "shell.execute_reply": "2020-12-29T10:21:09.244Z"
    }
   },
   "outputs": [],
   "source": [
    "figura = plt.figure()\n",
    "plt.title(\"Carga de un condensador\")\n",
    "plt.plot(resultados['tran']['T'], resultados['tran']['I(V1)'], label=\"Una etiqueta\")"
   ]
  },
  {
   "cell_type": "markdown",
   "metadata": {},
   "source": [
    "> **Pregunta:** Etiqueta los ejes convenientemente y comenta la gráfica. Dibuja otra gráfica con el voltaje en el borne `V1`. ¿Por qué son *opuestas*? ¿Qué le ocurre al voltaje a medida que evoluciona el circuito en el tiempo? Dibuja las gráficas en un formato estándar de representación vectorial (SVG, por ejemplo). Algo de ayuda [aquí](https://ipython.readthedocs.io/en/stable/api/generated/IPython.display.html#IPython.display.set_matplotlib_formats). ¿Qué valores devuelve el análisis de tipo `.op`? Justifícalo."
   ]
  },
  {
   "cell_type": "markdown",
   "metadata": {},
   "source": [
    "## Carrera de condensadores\n",
    "\n",
    "Ahora tenemos un circuito con dos condensadores en paralelo: \n",
    "\n",
    "![](https://raw.githubusercontent.com/pammacdotnet/spicelab/master/condensadores%20en%20paralelo.svg?sanitize=true)\n",
    "\n",
    "> **Pregunta:** Crea el netlist de este circuito e identifica qué condensador se satura primero. Dibuja la evolución de la intensidad en ambas ramas de manera simultánea. [Aquí](https://matplotlib.org/gallery/api/two_scales.html) tienes un ejemplo de cómo se hace esto en Matplotlib. Recuerda que para que Ahkab nos devuelva la corriente en una rama, debe de estar presente una pila. Si es necesario, inserta pilas virtuales de valor nulo (cero voltios), tal y como hemos comentado antes. Grafica también los voltajes (en otra gráfica, pero que aparezcan juntos). "
   ]
  },
  {
   "cell_type": "code",
   "execution_count": null,
   "metadata": {},
   "outputs": [],
   "source": [
    "%%writefile \"carrera en condensadores.ckt\"\n",
    "* Carga condensador\n",
    "v0 0 1 type=vdc vdc=10\n",
    "r1 0 2 3k\n",
    "c1 2 3 47u ic=0\n",
    "v1dummy 3 1 type=vdc vdc=0\n",
    "c2 2 4 22u ic=0\n",
    "v2dummy 4 1 type=vdc vdc=0\n",
    ".tran tstep=0.01 tstart=6.5 tstop=7.5 uic=0\n",
    ".end"
   ]
  },
  {
   "cell_type": "code",
   "execution_count": null,
   "metadata": {},
   "outputs": [],
   "source": [
    "circuito_y_análisis = ahkab.netlist_parser.parse_circuit(\"carrera en condensadores.ckt\")\n",
    "circuito = circuito_y_análisis[0]       \n",
    "análisis_en_netlist = circuito_y_análisis[1]\n",
    "lista_de_análisis = ahkab.netlist_parser.parse_analysis(circuito, análisis_en_netlist)\n",
    "lista_de_análisis[0]['outfile'] = \"simulación tran carrera condensadores.tsv\"\n",
    "resultados = ahkab.run(circuito, lista_de_análisis)"
   ]
  },
  {
   "cell_type": "code",
   "execution_count": null,
   "metadata": {},
   "outputs": [],
   "source": [
    "figura = plt.figure()\n",
    "plt.title(\"Carrera de condensadores\")\n",
    "plt.xlim(6.65, 7.5)\n",
    "plt.ylim(0.0, 0.0005)\n",
    "plt.grid()\n",
    "plt.plot(resultados['tran']['T'], resultados['tran']['I(V1DUMMY)'],label=\"Intensidad en C1\")\n",
    "plt.plot(resultados['tran']['T'], resultados['tran']['I(V2DUMMY)'],label=\"Intensidad en C2\")"
   ]
  },
  {
   "cell_type": "markdown",
   "metadata": {},
   "source": [
    "**Ejercicio premium:** Repite la simulación con LTspice (invocándolo como comando externo, leyendo los datos de un fichero `.raw` y volviendo a graficar con Matplotlib. "
   ]
  },
  {
   "cell_type": "markdown",
   "metadata": {},
   "source": [
    "## Circuitos en corriente alterna\n",
    "\n",
    "** Ejercicio:** Simula este circuito con LTspice y representa el voltaje y la intensidad en función del tiempo. Traduce este ejercicio a la versión Spice de Akhab y haz la misma representación. Ahkab utiliza otra sintaxis para expresar la corriente alterna. Esta está descrita en la [documentación](https://ahkab.readthedocs.io/en/latest/help/Netlist-Syntax.html#id24). "
   ]
  },
  {
   "cell_type": "code",
   "execution_count": null,
   "metadata": {},
   "outputs": [],
   "source": [
    "%%writefile \"corriente alterna.net\"\n",
    "* Circuito en corriente alterna\n",
    "v1 1 0 sin(0 120 60 0 0)\n",
    "r1 0 1 10k\n",
    ".tran 1\n",
    ".end"
   ]
  },
  {
   "cell_type": "code",
   "execution_count": null,
   "metadata": {},
   "outputs": [],
   "source": [
    "lts \"corriente alterna.net\""
   ]
  },
  {
   "cell_type": "markdown",
   "metadata": {},
   "source": [
    "# Resumen de lo que se pide\n",
    "Volved a realizar todos los ejercicios y demos en vuestro propio notebook, explicando con vuestras palabras cada paso, cada gráfica y respondiendo a cada pregunta. Cuidad la belleza, coherencia, narración, explicaciones y gráficas. Todas las gráficas se han pintado con Matplotlib, que es una biblioteca extendidísima en ciencia y tecnología. Es muuuuy bueno que la conozcáis. [Aquí](https://matplotlib.org/tutorials/introductory/pyplot.html) tenéis muchos ejemplos. "
   ]
  }
 ],
 "metadata": {
  "file_extension": ".py",
  "kernel_info": {
   "name": "python3"
  },
  "kernelspec": {
   "display_name": "Python 3",
   "language": "python",
   "name": "python3"
  },
  "language_info": {
   "codemirror_mode": {
    "name": "ipython",
    "version": 3
   },
   "file_extension": ".py",
   "mimetype": "text/x-python",
   "name": "python",
   "nbconvert_exporter": "python",
   "pygments_lexer": "ipython3",
   "version": "3.7.9"
  },
  "mimetype": "text/x-python",
  "name": "python",
  "npconvert_exporter": "python",
  "nteract": {
   "version": "0.27.0"
  },
  "pygments_lexer": "ipython3",
  "version": 3
 },
 "nbformat": 4,
 "nbformat_minor": 2
}
